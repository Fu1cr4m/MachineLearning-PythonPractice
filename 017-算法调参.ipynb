{
 "cells": [
  {
   "cell_type": "markdown",
   "id": "665d97ad",
   "metadata": {},
   "source": [
    "## 算法调参\n",
    "\n",
    "机器学习模型都是参数化的，可以通过调参来提高模型的准确度。找最佳参数组合当做查询问题；调整到何时遵循偏差和方差协调的原则\n",
    "\n",
    "### 机器学习算法调参\n",
    "调整算法参数是采用机器学习解决问题的最后一个步骤，有时也被称为超参数优化。参数分为两种：一种是影响模型在训练集上的准确度或防止过拟合能力的桉树；另一种是不影响这两者的参数。模型在样本总体上的准确度由其在训练集上的准确度及其防止过拟合能力共同决定，所以在调参时主要针对第一种参数进行调整，最终达到模型在训练集上的准确度和防止过拟合能力大和谐~    \n",
    "两种自动寻找最优化参数的算法：\n",
    "- 网格搜索优化参数\n",
    "- 随机搜索优化参数\n"
   ]
  },
  {
   "cell_type": "code",
   "execution_count": 2,
   "id": "14c5325b",
   "metadata": {
    "ExecuteTime": {
     "end_time": "2021-12-02T03:23:27.444935Z",
     "start_time": "2021-12-02T03:23:27.378108Z"
    }
   },
   "outputs": [
    {
     "name": "stdout",
     "output_type": "stream",
     "text": [
      "最高得分：0.280\n",
      "最优参数: 1\n",
      "\n",
      "其他几个选项\n",
      "0\n",
      "{'alpha': 1}\n"
     ]
    }
   ],
   "source": [
    "# 网格搜索优化参数：通过遍历已定义参数列表来评估算法的参数，从而找到最优参数\n",
    "\n",
    "import pandas as pd\n",
    "from sklearn.linear_model import Ridge\n",
    "from sklearn.model_selection import GridSearchCV\n",
    "import warnings\n",
    "warnings.filterwarnings('ignore')\n",
    "\n",
    "filename = 'pima_data.csv'\n",
    "names = ['preg', 'plas', 'pres', 'skin', 'test', 'mass', 'pedi', 'age', 'class']\n",
    "data = pd.read_csv(filename, names=names)\n",
    "array = data.values\n",
    "X = array[:, 0:8]\n",
    "Y = array[:, 8]\n",
    "\n",
    "# 算法实例化\n",
    "model = Ridge()\n",
    "# 设置要遍历的参数\n",
    "param_grid = {'alpha':[1, 0.1, 0.01, 0.001, 0]}\n",
    "# 通过网格搜索查询最优参数\n",
    "grid = GridSearchCV(estimator=model, param_grid=param_grid)\n",
    "grid.fit(X, Y)\n",
    "# 搜索结果\n",
    "print('最高得分：%.3f' % grid.best_score_)\n",
    "print('最优参数: %s' % grid.best_estimator_.alpha)\n",
    "print('\\n其他几个选项')\n",
    "print(grid.best_index_)\n",
    "print(grid.best_params_)\n"
   ]
  },
  {
   "cell_type": "code",
   "execution_count": 3,
   "id": "3205c6c2",
   "metadata": {
    "ExecuteTime": {
     "end_time": "2021-12-02T03:28:16.422065Z",
     "start_time": "2021-12-02T03:28:15.639185Z"
    }
   },
   "outputs": [
    {
     "name": "stdout",
     "output_type": "stream",
     "text": [
      "最高得分：0.280\n",
      "最优参数: 0.9779895119966027\n",
      "\n",
      "其他几个选项\n",
      "4\n",
      "{'alpha': 0.9779895119966027}\n"
     ]
    }
   ],
   "source": [
    "# 随机搜索优化参数：通过固定次数的迭代，采用随机采样分布的方式搜索合适的参数\n",
    "\n",
    "from sklearn.model_selection import RandomizedSearchCV\n",
    "from scipy.stats import uniform\n",
    "\n",
    "param_grid = {'alpha': uniform()}\n",
    "\n",
    "grid = RandomizedSearchCV(estimator=model, param_distributions=param_grid, n_iter=100, random_state=7)\n",
    "grid.fit(X, Y)\n",
    "\n",
    "print('最高得分：%.3f' % grid.best_score_)\n",
    "print('最优参数: %s' % grid.best_estimator_.alpha)\n",
    "print('\\n其他几个选项')\n",
    "print(grid.best_index_)\n",
    "print(grid.best_params_)"
   ]
  },
  {
   "cell_type": "markdown",
   "id": "387e72cc",
   "metadata": {},
   "source": [
    "如果算法的参数少于三个，推荐使用网格搜索优化参数    \n",
    "如果需要优化的参数超过三个，推荐使用随机搜索优化参数"
   ]
  }
 ],
 "metadata": {
  "kernelspec": {
   "display_name": "Python 3 (ipykernel)",
   "language": "python",
   "name": "python3"
  },
  "language_info": {
   "codemirror_mode": {
    "name": "ipython",
    "version": 3
   },
   "file_extension": ".py",
   "mimetype": "text/x-python",
   "name": "python",
   "nbconvert_exporter": "python",
   "pygments_lexer": "ipython3",
   "version": "3.7.4"
  }
 },
 "nbformat": 4,
 "nbformat_minor": 5
}
