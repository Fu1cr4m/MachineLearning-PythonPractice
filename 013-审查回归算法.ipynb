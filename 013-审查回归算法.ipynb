{
 "cells": [
  {
   "cell_type": "markdown",
   "id": "4ef5eaef",
   "metadata": {},
   "source": [
    "## 审查回归算法\n",
    "\n",
    "- 如何审查机器学习的回归算法\n",
    "- 如何审查四种线性回归算法\n",
    "- 如何审查三种非线性回归算法\n",
    "\n",
    "### 算法概述\n",
    "\n",
    "七种回归算法：   \n",
    "\n",
    "四种线性算法：\n",
    "- 线性回归算法\n",
    "- 岭回归算法\n",
    "- 套索回归算法\n",
    "- 弹性网络（Elastic Net）回归算法    \n",
    "\n",
    "三种非线性算法：\n",
    "- K近邻算法（KNN）\n",
    "- 分类与回归树算法\n",
    "- 支持向量机（SVM）\n",
    "    \n",
    "采用波士顿房价的数据集来审查回归算法， 10折交叉验证分离数据，通过均方误差来评估算法模型"
   ]
  },
  {
   "cell_type": "code",
   "execution_count": 9,
   "id": "0fce1618",
   "metadata": {
    "ExecuteTime": {
     "end_time": "2021-12-02T00:58:33.584829Z",
     "start_time": "2021-12-02T00:58:33.525981Z"
    }
   },
   "outputs": [
    {
     "name": "stdout",
     "output_type": "stream",
     "text": [
      "Linear Regression -34.705 \n"
     ]
    }
   ],
   "source": [
    "# 回归问题四种线性算法\n",
    "\n",
    "# 线性回归算法\n",
    "import pandas as pd\n",
    "from sklearn.model_selection import KFold,cross_val_score\n",
    "from sklearn.linear_model import LinearRegression\n",
    "import warnings\n",
    "warnings.filterwarnings('ignore')\n",
    "\n",
    "filename = 'housing.csv'\n",
    "names = ['CRIM', 'ZN', 'INDUS', 'CHAS', 'NOX', 'RM', 'AGE', 'DIS', 'RAD', \n",
    "         'TAX', 'PRTATIO', 'B', 'LSTAT', 'MEDV']\n",
    "data = pd.read_csv(filename, names=names, delim_whitespace=True)\n",
    "array = data.values\n",
    "X = array[:, 0:13]\n",
    "Y = array[:, 13]\n",
    "n_splits = 10\n",
    "seed =7\n",
    "kfold = KFold(n_splits=n_splits, random_state=seed)\n",
    "model = LinearRegression()\n",
    "scoring = 'neg_mean_squared_error'\n",
    "result = cross_val_score(model, X, Y, cv=kfold, scoring=scoring)\n",
    "print('Linear Regression %.3f ' %  result.mean())"
   ]
  },
  {
   "cell_type": "code",
   "execution_count": 13,
   "id": "536adeff",
   "metadata": {
    "ExecuteTime": {
     "end_time": "2021-12-02T00:58:51.331670Z",
     "start_time": "2021-12-02T00:58:51.292500Z"
    }
   },
   "outputs": [
    {
     "name": "stdout",
     "output_type": "stream",
     "text": [
      "Ridge Regression -34.078 \n"
     ]
    }
   ],
   "source": [
    "# 岭回归\n",
    "\n",
    "from sklearn.linear_model import Ridge\n",
    "model = Ridge()\n",
    "result = cross_val_score(model, X, Y, cv=kfold, scoring=scoring)\n",
    "print('Ridge Regression %.3f ' %  result.mean())"
   ]
  },
  {
   "cell_type": "code",
   "execution_count": 14,
   "id": "8c4babf8",
   "metadata": {
    "ExecuteTime": {
     "end_time": "2021-12-02T00:58:54.693975Z",
     "start_time": "2021-12-02T00:58:54.655104Z"
    }
   },
   "outputs": [
    {
     "name": "stdout",
     "output_type": "stream",
     "text": [
      "Lasso Regression -34.464 \n"
     ]
    }
   ],
   "source": [
    "# 套索回归 lasso\n",
    "\n",
    "from sklearn.linear_model import Lasso\n",
    "\n",
    "model = Lasso()\n",
    "result = cross_val_score(model, X, Y, cv=kfold, scoring=scoring)\n",
    "print('Lasso Regression %.3f ' %  result.mean())"
   ]
  },
  {
   "cell_type": "code",
   "execution_count": 15,
   "id": "427e8170",
   "metadata": {
    "ExecuteTime": {
     "end_time": "2021-12-02T00:59:00.670623Z",
     "start_time": "2021-12-02T00:59:00.633182Z"
    }
   },
   "outputs": [
    {
     "name": "stdout",
     "output_type": "stream",
     "text": [
      "ElasticNet Regression -31.165 \n"
     ]
    }
   ],
   "source": [
    "# 弹性网络回归算法\n",
    "\n",
    "from sklearn.linear_model import ElasticNet\n",
    "\n",
    "model = ElasticNet()\n",
    "result = cross_val_score(model, X, Y, cv=kfold, scoring=scoring)\n",
    "print('ElasticNet Regression %.3f ' %  result.mean())"
   ]
  },
  {
   "cell_type": "code",
   "execution_count": 16,
   "id": "89de86d6",
   "metadata": {
    "ExecuteTime": {
     "end_time": "2021-12-02T00:59:05.382156Z",
     "start_time": "2021-12-02T00:59:05.328230Z"
    }
   },
   "outputs": [
    {
     "name": "stdout",
     "output_type": "stream",
     "text": [
      "KNeighbors Regression -107.287 \n"
     ]
    }
   ],
   "source": [
    "# 非线性算法\n",
    "\n",
    "# KNN\n",
    "from sklearn.neighbors import KNeighborsRegressor\n",
    "model = KNeighborsRegressor()\n",
    "result = cross_val_score(model, X, Y, cv=kfold, scoring=scoring)\n",
    "print('KNeighbors Regression %.3f ' %  result.mean())"
   ]
  },
  {
   "cell_type": "code",
   "execution_count": 17,
   "id": "013e967b",
   "metadata": {
    "ExecuteTime": {
     "end_time": "2021-12-02T01:01:46.246473Z",
     "start_time": "2021-12-02T01:01:46.158726Z"
    }
   },
   "outputs": [
    {
     "name": "stdout",
     "output_type": "stream",
     "text": [
      "DecisionTree Regression -39.528 \n"
     ]
    }
   ],
   "source": [
    "# 分类与回归树 CART\n",
    "\n",
    "from sklearn.tree import DecisionTreeRegressor\n",
    "model = DecisionTreeRegressor()\n",
    "result = cross_val_score(model, X, Y, cv=kfold, scoring=scoring)\n",
    "print('DecisionTree Regression %.3f ' %  result.mean())"
   ]
  },
  {
   "cell_type": "code",
   "execution_count": 18,
   "id": "f206e1a5",
   "metadata": {
    "ExecuteTime": {
     "end_time": "2021-12-02T01:04:17.745936Z",
     "start_time": "2021-12-02T01:04:17.421805Z"
    }
   },
   "outputs": [
    {
     "name": "stdout",
     "output_type": "stream",
     "text": [
      "SVM -91.048 \n"
     ]
    }
   ],
   "source": [
    "# 支持向量机 SVM\n",
    "\n",
    "from sklearn.svm import SVR\n",
    "model = SVR()\n",
    "result = cross_val_score(model, X, Y, cv=kfold, scoring=scoring)\n",
    "print('SVM %.3f ' %  result.mean())"
   ]
  },
  {
   "cell_type": "markdown",
   "id": "dfe73af7",
   "metadata": {},
   "source": [
    "sklearn中算法评估矩阵通常使用cross_val_score函数，通过指定参数scoring来选择使用不同评估矩阵。scoring参数表如下：     \n",
    "![](./img/13-1.png)\n",
    "![](./img/13-2.png)"
   ]
  },
  {
   "cell_type": "code",
   "execution_count": null,
   "id": "16d768f7",
   "metadata": {},
   "outputs": [],
   "source": []
  }
 ],
 "metadata": {
  "kernelspec": {
   "display_name": "Python 3 (ipykernel)",
   "language": "python",
   "name": "python3"
  },
  "language_info": {
   "codemirror_mode": {
    "name": "ipython",
    "version": 3
   },
   "file_extension": ".py",
   "mimetype": "text/x-python",
   "name": "python",
   "nbconvert_exporter": "python",
   "pygments_lexer": "ipython3",
   "version": "3.7.4"
  }
 },
 "nbformat": 4,
 "nbformat_minor": 5
}
