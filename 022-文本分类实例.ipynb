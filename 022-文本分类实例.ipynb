{
 "cells": [
  {
   "cell_type": "code",
   "execution_count": 1,
   "id": "1aff59df",
   "metadata": {
    "ExecuteTime": {
     "end_time": "2021-12-02T08:53:28.411000Z",
     "start_time": "2021-12-02T08:53:23.937223Z"
    }
   },
   "outputs": [],
   "source": [
    "from sklearn.datasets import load_files\n",
    "from sklearn.feature_extraction.text import CountVectorizer,TfidfVectorizer\n",
    "from sklearn.linear_model import LogisticRegression\n",
    "from sklearn.naive_bayes import MultinomialNB\n",
    "from sklearn.neighbors import KNeighborsClassifier\n",
    "from sklearn.svm import SVC\n",
    "from sklearn.tree import DecisionTreeClassifier\n",
    "from sklearn.metrics import classification_report,accuracy_score\n",
    "from sklearn.model_selection import cross_val_score,KFold,GridSearchCV\n",
    "from sklearn.ensemble import AdaBoostClassifier,RandomForestClassifier\n",
    "import matplotlib.pyplot as plt\n",
    "import warnings\n",
    "warnings.filterwarnings('ignore')\n",
    "\n",
    "# 导入数据\n",
    "categories = ['alt.atheism',\n",
    "              'rec.sport.hockey',\n",
    "              'comp.graphics',\n",
    "              'sci.crypt',\n",
    "              'comp.os.ms-windows.misc',\n",
    "              'sci.electronics',\n",
    "              'comp.sys.ibm.pc.hardware',\n",
    "              'sci.med',\n",
    "              'comp.sys.mac.hardware',\n",
    "              'sci.space',\n",
    "              'comp.windows.x',\n",
    "              'soc.religion.christian',\n",
    "              'misc.forsale',\n",
    "              'talk.politics.guns',\n",
    "              'rec.autos' \n",
    "              'talk.politics.mideast',\n",
    "              'rec.motorcycles',\n",
    "              'talk.politics.misc',\n",
    "              'rec.sport.baseball',\n",
    "              'talk.religion.misc']\n",
    "# 导入训练数据\n",
    "train_path = '20news-bydate-train'\n",
    "dataset_train = load_files(container_path=train_path, categories=categories)\n",
    "# 导入评估数据\n",
    "test_path = '20news-bydate-test'\n",
    "dataset_test = load_files(container_path=test_path, categories=categories)"
   ]
  },
  {
   "cell_type": "code",
   "execution_count": 2,
   "id": "7abaf8e5",
   "metadata": {
    "ExecuteTime": {
     "end_time": "2021-12-02T08:53:35.134783Z",
     "start_time": "2021-12-02T08:53:30.404319Z"
    }
   },
   "outputs": [
    {
     "data": {
      "text/plain": [
       "(10156, 122402)"
      ]
     },
     "execution_count": 2,
     "metadata": {},
     "output_type": "execute_result"
    }
   ],
   "source": [
    "# 文本特征提取\n",
    "\n",
    "# 计算词频\n",
    "count_vect = CountVectorizer(stop_words='english', decode_error='ignore')\n",
    "X_train_counts = count_vect.fit_transform(dataset_train.data)\n",
    "# 查看数据维度\n",
    "X_train_counts.shape"
   ]
  },
  {
   "cell_type": "code",
   "execution_count": 3,
   "id": "45a1a46f",
   "metadata": {
    "ExecuteTime": {
     "end_time": "2021-12-02T08:53:39.649718Z",
     "start_time": "2021-12-02T08:53:35.145731Z"
    }
   },
   "outputs": [
    {
     "data": {
      "text/plain": [
       "(10156, 122402)"
      ]
     },
     "execution_count": 3,
     "metadata": {},
     "output_type": "execute_result"
    }
   ],
   "source": [
    "# 计算TF-IDF\n",
    "tf_transformer = TfidfVectorizer(stop_words='english', decode_error='ignore')\n",
    "X_train_counts_tf = tf_transformer.fit_transform(dataset_train.data)\n",
    "# 查看数据维度\n",
    "X_train_counts_tf.shape"
   ]
  },
  {
   "cell_type": "code",
   "execution_count": 4,
   "id": "6de56daa",
   "metadata": {
    "ExecuteTime": {
     "end_time": "2021-12-02T09:38:41.778920Z",
     "start_time": "2021-12-02T08:53:41.885146Z"
    }
   },
   "outputs": [
    {
     "name": "stdout",
     "output_type": "stream",
     "text": [
      "LR : 0.901636 (0.010638)\n",
      "SVM : 0.047658 (0.004797)\n",
      "CART : 0.663943 (0.015156)\n",
      "MNB : 0.880760 (0.006831)\n",
      "KNN : 0.797163 (0.011413)\n"
     ]
    }
   ],
   "source": [
    "# 评估算法\n",
    "\n",
    "# 设置评估算法的基准\n",
    "num_folds = 10\n",
    "seed = 7\n",
    "scoring = 'accuracy'\n",
    "\n",
    "# 生成算法模型\n",
    "models = {}\n",
    "models['LR'] = LogisticRegression()\n",
    "models['SVM'] = SVC()\n",
    "models['CART'] = DecisionTreeClassifier()\n",
    "models['MNB'] = MultinomialNB()\n",
    "models['KNN'] = KNeighborsClassifier()\n",
    "\n",
    "# 比较算法\n",
    "results = []\n",
    "for key in models:\n",
    "    kfold = KFold(n_splits=num_folds, random_state=seed)\n",
    "    cv_results = cross_val_score(models[key], X_train_counts_tf, dataset_train.target, cv=kfold, scoring=scoring)\n",
    "    results.append(cv_results)\n",
    "    print('%s : %f (%f)' % (key, cv_results.mean(), cv_results.std()))\n"
   ]
  },
  {
   "cell_type": "code",
   "execution_count": 5,
   "id": "12bad3f7",
   "metadata": {
    "ExecuteTime": {
     "end_time": "2021-12-02T10:20:47.700407Z",
     "start_time": "2021-12-02T10:20:47.369479Z"
    }
   },
   "outputs": [
    {
     "data": {
      "image/png": "[encoded data removed]",
      "text/plain": [
       "<Figure size 432x288 with 1 Axes>"
      ]
     },
     "metadata": {
      "needs_background": "light"
     },
     "output_type": "display_data"
    }
   ],
   "source": [
    "# 箱线图比较算法\n",
    "fig = plt.figure()\n",
    "fig.suptitle('Algorithm Comparision')\n",
    "ax = fig.add_subplot(111)\n",
    "plt.boxplot(results)\n",
    "ax.set_xticklabels(models.keys())\n",
    "plt.show()"
   ]
  },
  {
   "cell_type": "code",
   "execution_count": 6,
   "id": "2eb8758e",
   "metadata": {
    "ExecuteTime": {
     "end_time": "2021-12-02T10:29:14.114532Z",
     "start_time": "2021-12-02T10:21:03.111044Z"
    }
   },
   "outputs": [
    {
     "name": "stdout",
     "output_type": "stream",
     "text": [
      "最优 : 0.9251673887357227 使用 {'C': 13}\n"
     ]
    }
   ],
   "source": [
    "# 算法调参\n",
    "# 调参LR\n",
    "param_grid = {}\n",
    "param_grid['C'] = [0.1, 5, 13, 15]\n",
    "model = LogisticRegression()\n",
    "kfold = KFold(n_splits=num_folds, random_state=seed)\n",
    "grid = GridSearchCV(estimator=model, param_grid=param_grid, scoring=scoring, cv=kfold)\n",
    "grid_result = grid.fit(X=X_train_counts_tf, y=dataset_train.target)\n",
    "print('最优 : %s 使用 %s' % (grid_result.best_score_, grid_result.best_params_))"
   ]
  },
  {
   "cell_type": "code",
   "execution_count": 7,
   "id": "ee6b3fdb",
   "metadata": {
    "ExecuteTime": {
     "end_time": "2021-12-02T10:29:25.365364Z",
     "start_time": "2021-12-02T10:29:14.119514Z"
    }
   },
   "outputs": [
    {
     "name": "stdout",
     "output_type": "stream",
     "text": [
      "最优 : 0.9165025600630169 使用 {'alpha': 0.01}\n"
     ]
    }
   ],
   "source": [
    "# 调参MNB\n",
    "param_grid = {}\n",
    "param_grid['alpha'] = [0.001, 0.01, 0.1, 1.5]\n",
    "model = MultinomialNB()\n",
    "kfold = KFold(n_splits=num_folds, random_state=seed)\n",
    "grid = GridSearchCV(estimator=model, param_grid=param_grid, scoring=scoring, cv=kfold)\n",
    "grid_result = grid.fit(X=X_train_counts_tf, y=dataset_train.target)\n",
    "print('最优 : %s 使用 %s' % (grid_result.best_score_, grid_result.best_params_))"
   ]
  },
  {
   "cell_type": "code",
   "execution_count": 8,
   "id": "b0c083ff",
   "metadata": {
    "ExecuteTime": {
     "end_time": "2021-12-02T10:44:08.350430Z",
     "start_time": "2021-12-02T10:29:25.369346Z"
    }
   },
   "outputs": [
    {
     "name": "stdout",
     "output_type": "stream",
     "text": [
      "RF : 0.735429 (0.018955)\n",
      "AB : 0.558783 (0.011644)\n"
     ]
    }
   ],
   "source": [
    "# 集成算法\n",
    "ensembles = {}\n",
    "ensembles['RF'] = RandomForestClassifier()\n",
    "ensembles['AB'] = AdaBoostClassifier()\n",
    "\n",
    "# 比较集成算法\n",
    "results = []\n",
    "for key in ensembles:\n",
    "    kfold = KFold(n_splits=num_folds, random_state=seed)\n",
    "    cv_results = cross_val_score(ensembles[key], X_train_counts_tf, dataset_train.target, cv=kfold, scoring=scoring)\n",
    "    results.append(cv_results)\n",
    "    print('%s : %f (%f)' % (key, cv_results.mean(), cv_results.std()))"
   ]
  },
  {
   "cell_type": "code",
   "execution_count": 9,
   "id": "43e662b1",
   "metadata": {
    "ExecuteTime": {
     "end_time": "2021-12-02T10:44:08.620477Z",
     "start_time": "2021-12-02T10:44:08.354449Z"
    }
   },
   "outputs": [
    {
     "data": {
      "image/png": "[encoded data removed]",
      "text/plain": [
       "<Figure size 432x288 with 1 Axes>"
      ]
     },
     "metadata": {
      "needs_background": "light"
     },
     "output_type": "display_data"
    }
   ],
   "source": [
    "# 箱线图比较算法\n",
    "fig = plt.figure()\n",
    "fig.suptitle('Algorithm Comparision')\n",
    "ax = fig.add_subplot(111)\n",
    "plt.boxplot(results)\n",
    "ax.set_xticklabels(ensembles.keys())\n",
    "plt.show()"
   ]
  },
  {
   "cell_type": "code",
   "execution_count": 10,
   "id": "5dc83d08",
   "metadata": {
    "ExecuteTime": {
     "end_time": "2021-12-02T11:50:14.334148Z",
     "start_time": "2021-12-02T10:44:08.624437Z"
    }
   },
   "outputs": [
    {
     "name": "stdout",
     "output_type": "stream",
     "text": [
      "最优 : 0.8713076014178811 使用 {'n_estimators': 200}\n"
     ]
    }
   ],
   "source": [
    "# 调参RF\n",
    "param_grid = {}\n",
    "param_grid['n_estimators'] = [10, 100, 150, 200]\n",
    "model = RandomForestClassifier()\n",
    "kfold = KFold(n_splits=num_folds, random_state=seed)\n",
    "grid = GridSearchCV(estimator=model, param_grid=param_grid, scoring=scoring, cv=kfold)\n",
    "grid_result = grid.fit(X=X_train_counts_tf, y=dataset_train.target)\n",
    "print('最优 : %s 使用 %s' % (grid_result.best_score_, grid_result.best_params_))"
   ]
  },
  {
   "cell_type": "code",
   "execution_count": 11,
   "id": "b9329dee",
   "metadata": {
    "ExecuteTime": {
     "end_time": "2021-12-02T11:50:23.167770Z",
     "start_time": "2021-12-02T11:50:14.342090Z"
    }
   },
   "outputs": [
    {
     "name": "stdout",
     "output_type": "stream",
     "text": [
      "0.8448224852071006\n",
      "              precision    recall  f1-score   support\n",
      "\n",
      "           0       0.84      0.77      0.80       319\n",
      "           1       0.74      0.80      0.77       389\n",
      "           2       0.77      0.74      0.76       394\n",
      "           3       0.71      0.74      0.73       392\n",
      "           4       0.81      0.85      0.83       385\n",
      "           5       0.86      0.77      0.81       395\n",
      "           6       0.83      0.91      0.87       390\n",
      "           7       0.97      0.97      0.97       398\n",
      "           8       0.91      0.94      0.92       397\n",
      "           9       0.96      0.97      0.96       399\n",
      "          10       0.96      0.93      0.94       396\n",
      "          11       0.79      0.79      0.79       393\n",
      "          12       0.91      0.88      0.89       396\n",
      "          13       0.90      0.92      0.91       394\n",
      "          14       0.86      0.94      0.89       398\n",
      "          15       0.75      0.92      0.83       364\n",
      "          16       0.87      0.61      0.71       310\n",
      "          17       0.75      0.60      0.66       251\n",
      "\n",
      "    accuracy                           0.84      6760\n",
      "   macro avg       0.84      0.84      0.84      6760\n",
      "weighted avg       0.85      0.84      0.84      6760\n",
      "\n"
     ]
    }
   ],
   "source": [
    "# 生成模型\n",
    "model = LogisticRegression(C=13)\n",
    "model.fit(X_train_counts_tf, dataset_train.target)\n",
    "X_test_counts = tf_transformer.transform(dataset_test.data)\n",
    "predictions = model.predict(X_test_counts)\n",
    "print(accuracy_score(dataset_test.target, predictions))\n",
    "print(classification_report(dataset_test.target, predictions))"
   ]
  },
  {
   "cell_type": "code",
   "execution_count": null,
   "id": "24d95e3b",
   "metadata": {},
   "outputs": [],
   "source": []
  }
 ],
 "metadata": {
  "kernelspec": {
   "display_name": "Python 3 (ipykernel)",
   "language": "python",
   "name": "python3"
  },
  "language_info": {
   "codemirror_mode": {
    "name": "ipython",
    "version": 3
   },
   "file_extension": ".py",
   "mimetype": "text/x-python",
   "name": "python",
   "nbconvert_exporter": "python",
   "pygments_lexer": "ipython3",
   "version": "3.7.4"
  }
 },
 "nbformat": 4,
 "nbformat_minor": 5
}
