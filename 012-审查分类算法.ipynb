{
 "cells": [
  {
   "cell_type": "markdown",
   "id": "1adc41b2",
   "metadata": {},
   "source": [
    "## 审查分类算法\n",
    "\n",
    "- 如何审查机器学习的分类算法\n",
    "- 如何审查两个线性分类算法\n",
    "- 如何审查四个非线性分类算法\n",
    "\n",
    "### 算法审查\n",
    "\n",
    "审查算法前没有办法判断哪个算法对数据集最有效、能够生成最优模型，此时需要通过实验来判断。    \n",
    "换一种思路：不是针对数据应该采用哪种算法，而是用数据来审查算法。先猜测什么算法可能最好，建议对于统一数据集使用不同算法，来审查算法有效性，也可以让我们有一个更感性的认识。以下是几点建议：    \n",
    "- 尝试多种代表性算法\n",
    "- 尝试多种机器学习的算法\n",
    "- 尝试多种模型\n",
    "\n",
    "### 算法概述\n",
    "在分类算法中，有很多类型的分类器：线性分类器、贝叶斯分类器、基于距离的分类器等。    \n",
    "两种线性算法：\n",
    "- 逻辑回归\n",
    "- 线性判别分析\n",
    "四种非线性算法：\n",
    "- K近邻\n",
    "- 贝叶斯分类器\n",
    "- 分类与回归树\n",
    "- 支持向量机    \n",
    "    \n",
    "后面使用Pima Indians数据集审查，10折交叉验证评估准确度，使用评价准确度标准化算法得分"
   ]
  },
  {
   "cell_type": "code",
   "execution_count": 7,
   "id": "83c6b874",
   "metadata": {
    "ExecuteTime": {
     "end_time": "2021-12-02T00:26:19.446069Z",
     "start_time": "2021-12-02T00:26:19.341193Z"
    }
   },
   "outputs": [
    {
     "data": {
      "text/plain": [
       "0.7695146958304853"
      ]
     },
     "execution_count": 7,
     "metadata": {},
     "output_type": "execute_result"
    }
   ],
   "source": [
    "# 线性算法：；逻辑回归和线性判别分析都是假定输入的数据符合高斯分布\n",
    "\n",
    "# 逻辑回归\n",
    "import pandas as pd\n",
    "from sklearn.model_selection import KFold,cross_val_score\n",
    "from sklearn.linear_model import LogisticRegression\n",
    "import warnings\n",
    "warnings.filterwarnings('ignore')\n",
    "filename = 'pima_data.csv'\n",
    "names = ['preg', 'plas', 'pres', 'skin', 'test', ',ass', 'pedi', 'age', 'class']\n",
    "data = pd.read_csv(filename, names=names)\n",
    "array = data.values\n",
    "X = array[:, 0:8]\n",
    "Y = array[:, 8]\n",
    "num_folds = 10\n",
    "seed = 7\n",
    "kfold = KFold(n_splits=num_folds, random_state=seed)\n",
    "model = LogisticRegression()\n",
    "result = cross_val_score(model, X, Y, cv=kfold)\n",
    "result.mean()"
   ]
  },
  {
   "cell_type": "code",
   "execution_count": 8,
   "id": "d9d6982f",
   "metadata": {
    "ExecuteTime": {
     "end_time": "2021-12-02T00:29:08.657717Z",
     "start_time": "2021-12-02T00:29:08.571944Z"
    }
   },
   "outputs": [
    {
     "data": {
      "text/plain": [
       "0.773462064251538"
      ]
     },
     "execution_count": 8,
     "metadata": {},
     "output_type": "execute_result"
    }
   ],
   "source": [
    "# 线性判别分析=LDA=Fisher线性判别 FLD =模式识别经典算法\n",
    "from sklearn.discriminant_analysis import LinearDiscriminantAnalysis\n",
    "\n",
    "seed = 7\n",
    "num_folds = 10\n",
    "kfold = KFold(n_splits=num_folds, random_state=seed)\n",
    "model = LinearDiscriminantAnalysis()\n",
    "result = cross_val_score(model, X, Y, cv=kfold)\n",
    "result.mean()"
   ]
  },
  {
   "cell_type": "code",
   "execution_count": 9,
   "id": "b2b98b26",
   "metadata": {
    "ExecuteTime": {
     "end_time": "2021-12-02T00:31:54.528742Z",
     "start_time": "2021-12-02T00:31:54.407292Z"
    }
   },
   "outputs": [
    {
     "data": {
      "text/plain": [
       "0.7265550239234451"
      ]
     },
     "execution_count": 9,
     "metadata": {},
     "output_type": "execute_result"
    }
   ],
   "source": [
    "# 非线性算法\n",
    "from sklearn.neighbors import KNeighborsClassifier\n",
    "\n",
    "# K近邻算法\n",
    "model = KNeighborsClassifier()\n",
    "result = cross_val_score(model, X, Y,cv=kfold)\n",
    "result.mean()"
   ]
  },
  {
   "cell_type": "code",
   "execution_count": 10,
   "id": "4cfd6a85",
   "metadata": {
    "ExecuteTime": {
     "end_time": "2021-12-02T00:35:06.116885Z",
     "start_time": "2021-12-02T00:35:06.075994Z"
    }
   },
   "outputs": [
    {
     "data": {
      "text/plain": [
       "0.7551777170198223"
      ]
     },
     "execution_count": 10,
     "metadata": {},
     "output_type": "execute_result"
    }
   ],
   "source": [
    "# 贝叶斯分类器：通过先验概率，利用贝叶斯公式计算后验概率\n",
    "\n",
    "from sklearn.naive_bayes import GaussianNB\n",
    "\n",
    "model = GaussianNB()\n",
    "result = cross_val_score(model, X, Y, cv=kfold)\n",
    "result.mean()"
   ]
  },
  {
   "cell_type": "code",
   "execution_count": 20,
   "id": "9e51b35e",
   "metadata": {
    "ExecuteTime": {
     "end_time": "2021-12-02T00:39:03.501879Z",
     "start_time": "2021-12-02T00:39:03.427599Z"
    }
   },
   "outputs": [
    {
     "data": {
      "text/plain": [
       "0.6939336978810663"
      ]
     },
     "execution_count": 20,
     "metadata": {},
     "output_type": "execute_result"
    }
   ],
   "source": [
    "# 分类与回归树 CART，包含两步\n",
    "# 树的生成，基于训练数据集生成决策树，要尽量大\n",
    "# 树的剪枝，用于验证数据集对已生成的树进行剪枝，并选择最优子树，以损失函数最小作为剪枝标准\n",
    "\n",
    "from sklearn.tree import DecisionTreeClassifier\n",
    "model = DecisionTreeClassifier()\n",
    "result = cross_val_score(model, X, Y, cv=kfold)\n",
    "result.mean()"
   ]
  },
  {
   "cell_type": "code",
   "execution_count": 21,
   "id": "c60e51d2",
   "metadata": {
    "ExecuteTime": {
     "end_time": "2021-12-02T00:40:22.718465Z",
     "start_time": "2021-12-02T00:40:22.099079Z"
    }
   },
   "outputs": [
    {
     "data": {
      "text/plain": [
       "0.6510252904989747"
      ]
     },
     "execution_count": 21,
     "metadata": {},
     "output_type": "execute_result"
    }
   ],
   "source": [
    "# 支持向量机 SVM ：解决小样本、非线性及高维模式识别中有很多优势\n",
    "\n",
    "from sklearn.svm import SVC\n",
    "\n",
    "model = SVC()\n",
    "result = cross_val_score(model, X, Y, cv=kfold)\n",
    "result.mean()"
   ]
  },
  {
   "cell_type": "code",
   "execution_count": null,
   "id": "565c164b",
   "metadata": {},
   "outputs": [],
   "source": []
  }
 ],
 "metadata": {
  "kernelspec": {
   "display_name": "Python 3 (ipykernel)",
   "language": "python",
   "name": "python3"
  },
  "language_info": {
   "codemirror_mode": {
    "name": "ipython",
    "version": 3
   },
   "file_extension": ".py",
   "mimetype": "text/x-python",
   "name": "python",
   "nbconvert_exporter": "python",
   "pygments_lexer": "ipython3",
   "version": "3.7.4"
  }
 },
 "nbformat": 4,
 "nbformat_minor": 5
}
