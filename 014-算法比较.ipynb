{
 "cells": [
  {
   "cell_type": "markdown",
   "id": "d263c716",
   "metadata": {},
   "source": [
    "## 算法比较\n",
    "\n",
    "- 如何来设计实验比较不同的机器学习算法\n",
    "- 可重复利用、用来评估算法性能的模板\n",
    "- 可视化算法比较结果\n",
    "\n",
    "### 选择最佳机器学习算法\n",
    "\n",
    "每种模型都有各自适合处理的数据特征，通过交叉验证等抽样验证方式可以得到每种模型的准确度，并选择合适问题的算法，找到1-2中最适合问题的算法。    \n",
    "- 应用不同维度来审查数据，也适用于选择算法模型\n",
    "- 可视化方式展示评价准确度、方差等属性\n",
    "\n",
    "### 机器学习算法的比较\n",
    "\n",
    "使用相同的数据和方法来评估不同的算法，以便得到一个准确的结果。    \n",
    "下面使用同一个数据集来比较六种分类算法，以便选择合适的算法来解决问题\n",
    "- 逻辑回归 LR\n",
    "- 线性判别分析 LDA\n",
    "- K近邻 KNN\n",
    "- 分类与回归树 CART\n",
    "- 贝叶斯分类器\n",
    "- 支持向量机 SVM\n"
   ]
  },
  {
   "cell_type": "code",
   "execution_count": 3,
   "id": "3ded94d3",
   "metadata": {
    "ExecuteTime": {
     "end_time": "2021-12-02T01:30:49.816050Z",
     "start_time": "2021-12-02T01:30:48.582346Z"
    }
   },
   "outputs": [
    {
     "name": "stdout",
     "output_type": "stream",
     "text": [
      "LR: 0.770 (0.048)\n",
      "LDA: 0.773 (0.052)\n",
      "KNN: 0.727 (0.062)\n",
      "CART: 0.707 (0.066)\n",
      "SVM: 0.651 (0.072)\n",
      "NB: 0.755 (0.043)\n"
     ]
    },
    {
     "data": {
      "image/png": "[encoded data removed]",
      "text/plain": [
       "<Figure size 432x288 with 1 Axes>"
      ]
     },
     "metadata": {
      "needs_background": "light"
     },
     "output_type": "display_data"
    }
   ],
   "source": [
    "import pandas as pd\n",
    "from sklearn.model_selection import KFold,cross_val_score\n",
    "from sklearn.linear_model import LogisticRegression\n",
    "from sklearn.discriminant_analysis import LinearDiscriminantAnalysis\n",
    "from sklearn.neighbors import KNeighborsClassifier\n",
    "from sklearn.tree import DecisionTreeClassifier\n",
    "from sklearn.svm import SVC\n",
    "from sklearn.naive_bayes import GaussianNB\n",
    "import matplotlib.pyplot as plt\n",
    "import warnings\n",
    "warnings.filterwarnings('ignore')\n",
    "\n",
    "filename = 'pima_data.csv'\n",
    "names = ['preg', 'plas', 'pres', 'skin', 'test', 'mass', 'pedi', 'age', 'class']\n",
    "data = pd.read_csv(filename, names=names)\n",
    "array = data.values\n",
    "X = array[:, 0:8]\n",
    "Y = array[:, 8]\n",
    "num_folds = 10\n",
    "seed =7\n",
    "kfold = KFold(n_splits=num_folds, random_state=seed)\n",
    "\n",
    "models = {}\n",
    "models['LR'] = LogisticRegression()\n",
    "models['LDA'] = LinearDiscriminantAnalysis()\n",
    "models['KNN'] = KNeighborsClassifier()\n",
    "models['CART'] = DecisionTreeClassifier()\n",
    "models['SVM'] = SVC()\n",
    "models['NB'] = GaussianNB()\n",
    "\n",
    "results = []\n",
    "for name in models:\n",
    "    result = cross_val_score(models[name], X, Y, cv=kfold)\n",
    "    results.append(result)\n",
    "    msg = '%s: %.3f (%.3f)' % (name, result.mean(), result.std())\n",
    "    print(msg)\n",
    "    \n",
    "fig = plt.figure()\n",
    "fig.suptitle('Algorithm Comparison')\n",
    "ax = fig.add_subplot(111)\n",
    "plt.boxplot(results)\n",
    "ax.set_xticklabels(models.keys())\n",
    "plt.show()"
   ]
  },
  {
   "cell_type": "code",
   "execution_count": null,
   "id": "2ff92b20",
   "metadata": {},
   "outputs": [],
   "source": []
  }
 ],
 "metadata": {
  "kernelspec": {
   "display_name": "Python 3 (ipykernel)",
   "language": "python",
   "name": "python3"
  },
  "language_info": {
   "codemirror_mode": {
    "name": "ipython",
    "version": 3
   },
   "file_extension": ".py",
   "mimetype": "text/x-python",
   "name": "python",
   "nbconvert_exporter": "python",
   "pygments_lexer": "ipython3",
   "version": "3.7.4"
  }
 },
 "nbformat": 4,
 "nbformat_minor": 5
}
