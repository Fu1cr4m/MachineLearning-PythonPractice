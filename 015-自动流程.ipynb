{
 "cells": [
  {
   "cell_type": "markdown",
   "id": "9910863d",
   "metadata": {},
   "source": [
    "## 自动流程\n",
    "\n",
    "sklearn中通过Pipeline来定义和自动化运行标准流程实现对机器学习问题的自动化处理\n",
    "- 使用Pipeline最小化数据缺失\n",
    "- 构建数据准备和生成模型的Pipeline\n",
    "- 构建数据特征选择和生产模型的Pipeline\n",
    "    \n",
    "机器学习实践最常见的一个错误，是训练数据集与评估数据集之间的数据泄露，会影响到评估的准确度。要避免该问题，需要有一个合适的方式把数据分离成训练数据集和评估数据集，Pipeline能够很好地处理泄露问题，如正态化处理\n",
    "    \n"
   ]
  },
  {
   "cell_type": "code",
   "execution_count": 4,
   "id": "e04d9000",
   "metadata": {
    "ExecuteTime": {
     "end_time": "2021-12-02T01:47:17.918209Z",
     "start_time": "2021-12-02T01:47:17.843376Z"
    }
   },
   "outputs": [
    {
     "name": "stdout",
     "output_type": "stream",
     "text": [
      "0.773462064251538\n"
     ]
    }
   ],
   "source": [
    "# 数据准备和生成模型的Pipeline\n",
    "# 利用Pipeline处理数据分为以下两个步骤\n",
    "# 正态化数据；训练一个线性判别分析模型\n",
    "import pandas as pd\n",
    "from sklearn.model_selection import KFold,cross_val_score\n",
    "from sklearn.preprocessing import StandardScaler\n",
    "from sklearn.pipeline import Pipeline\n",
    "from sklearn.discriminant_analysis import LinearDiscriminantAnalysis\n",
    "import warnings\n",
    "warnings.filterwarnings('ignore', 'RuntimeWarning')\n",
    "\n",
    "filename = 'pima_data.csv'\n",
    "names = ['preg', 'plas', 'pres', 'skin', 'test', 'mass', 'pedi', 'age', 'class']\n",
    "data = pd.read_csv(filename, names=names)\n",
    "# 将数据分为输入数据和输出结果\n",
    "array = data.values\n",
    "X = array[:, 0:8]\n",
    "Y = array[:, 8]\n",
    "num_folds = 10\n",
    "seed = 7\n",
    "kfold = KFold(n_splits=num_folds, random_state=seed)\n",
    "\n",
    "steps = []\n",
    "steps.append(('Standardize', StandardScaler()))\n",
    "steps.append(('lda', LinearDiscriminantAnalysis()))\n",
    "model = Pipeline(steps)\n",
    "result = cross_val_score(model, X, Y, cv=kfold)\n",
    "print(result.mean())"
   ]
  },
  {
   "cell_type": "code",
   "execution_count": 5,
   "id": "3e2d2d0b",
   "metadata": {
    "ExecuteTime": {
     "end_time": "2021-12-02T02:07:11.434171Z",
     "start_time": "2021-12-02T02:07:11.270631Z"
    }
   },
   "outputs": [
    {
     "name": "stdout",
     "output_type": "stream",
     "text": [
      "0.7799555707450445\n"
     ]
    }
   ],
   "source": [
    "# 特征选择和生成模型的Pipeline：在特征选择时保持数据稳固性\n",
    "# 四个步骤：1、通过PAC进行特征选择；2、通过统计进行特征选择；3、特征集合；4、生成一个逻辑回归模型\n",
    "\n",
    "from sklearn.pipeline import FeatureUnion\n",
    "from sklearn.linear_model import LogisticRegression\n",
    "from sklearn.decomposition import PCA\n",
    "from sklearn.feature_selection import SelectKBest\n",
    "\n",
    "# 生成 FeatureUnion\n",
    "features = []\n",
    "features.append(('pca', PCA()))\n",
    "features.append(('select_best', SelectKBest(k=6)))\n",
    "\n",
    "# 生成 Pipeline\n",
    "steps = []\n",
    "steps.append(('feature_union', FeatureUnion(features)))\n",
    "steps.append(('logistic', LogisticRegression()))\n",
    "model = Pipeline(steps)\n",
    "result = cross_val_score(model, X, Y, cv=kfold)\n",
    "print(result.mean())"
   ]
  },
  {
   "cell_type": "code",
   "execution_count": null,
   "id": "8c600dcf",
   "metadata": {},
   "outputs": [],
   "source": []
  }
 ],
 "metadata": {
  "kernelspec": {
   "display_name": "Python 3 (ipykernel)",
   "language": "python",
   "name": "python3"
  },
  "language_info": {
   "codemirror_mode": {
    "name": "ipython",
    "version": 3
   },
   "file_extension": ".py",
   "mimetype": "text/x-python",
   "name": "python",
   "nbconvert_exporter": "python",
   "pygments_lexer": "ipython3",
   "version": "3.7.4"
  }
 },
 "nbformat": 4,
 "nbformat_minor": 5
}
