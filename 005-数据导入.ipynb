{
 "cells": [
  {
   "cell_type": "markdown",
   "id": "24ec3fe3",
   "metadata": {},
   "source": [
    "# 数据理解\n",
    "\n",
    "\n",
    "## 数据导入\n",
    "\n",
    "- 通过标准Python库导入csv文件\n",
    "- 通过numpy导入csv\n",
    "- 通过pandas导入csv\n",
    "\n",
    "### csv文件\n",
    "csv 是用逗号(,)分隔的文本文件，淡如前审查以下文件内容\n",
    "- 文件头\n",
    "    - 可以很方便的使用文件头信息设置读入数据字段的属性名称，如果不包含需要手动设定\n",
    "    - 设置字段属性名称，有助于提高数据处理程序的可读性\n",
    "- 文件中注释\n",
    "    - 注释行是以井号#开头，是否对注释行做处理，取决于读入方式\n",
    "- 分隔符\n",
    "    - 标准分隔符为逗号，也可以用tab键或空格作为自定义分隔符，使用两种分隔符时，要指明分隔符\n",
    "- 引号\n",
    "    - 当有的字段值有空白时，这些值会被引号引起来，默认使用双引号\n",
    "    - 如果采取自定义格式，要在文件读取时自定义\n"
   ]
  },
  {
   "cell_type": "code",
   "execution_count": 2,
   "id": "ec0d5cf7",
   "metadata": {
    "ExecuteTime": {
     "end_time": "2021-12-01T00:59:23.872686Z",
     "start_time": "2021-12-01T00:59:23.844762Z"
    }
   },
   "outputs": [
    {
     "name": "stdout",
     "output_type": "stream",
     "text": [
      "(768, 9)\n"
     ]
    }
   ],
   "source": [
    "# 采用标准Python类库导入数据\n",
    "\n",
    "from csv import reader\n",
    "import numpy as np\n",
    "filename = 'pima_data.csv'\n",
    "with open(filename, 'rt') as raw_data:\n",
    "    readers = reader(raw_data, delimiter=',')\n",
    "    x = list(readers)\n",
    "    data = np.array(x).astype('float')\n",
    "    print(data.shape)"
   ]
  },
  {
   "cell_type": "code",
   "execution_count": 4,
   "id": "98f22d13",
   "metadata": {
    "ExecuteTime": {
     "end_time": "2021-12-01T01:01:35.842523Z",
     "start_time": "2021-12-01T01:01:35.808644Z"
    }
   },
   "outputs": [
    {
     "name": "stdout",
     "output_type": "stream",
     "text": [
      "(768, 9)\n"
     ]
    }
   ],
   "source": [
    "from numpy import loadtxt\n",
    "with open(filename, 'rt') as raw_data:\n",
    "    data = loadtxt(raw_data, delimiter=',')\n",
    "    print(data.shape)"
   ]
  },
  {
   "cell_type": "code",
   "execution_count": 6,
   "id": "da7f4d72",
   "metadata": {
    "ExecuteTime": {
     "end_time": "2021-12-01T01:03:37.797871Z",
     "start_time": "2021-12-01T01:03:37.744598Z"
    }
   },
   "outputs": [
    {
     "data": {
      "text/plain": [
       "(768, 9)"
      ]
     },
     "execution_count": 6,
     "metadata": {},
     "output_type": "execute_result"
    }
   ],
   "source": [
    "from pandas import read_csv\n",
    "names = ['preg', 'plas', 'pres', 'skin', 'test', 'mass', 'pedi', 'age', 'class']\n",
    "data = read_csv(filename, names=names)\n",
    "data.shape"
   ]
  },
  {
   "cell_type": "code",
   "execution_count": null,
   "id": "14c0982b",
   "metadata": {},
   "outputs": [],
   "source": []
  }
 ],
 "metadata": {
  "kernelspec": {
   "display_name": "Python 3 (ipykernel)",
   "language": "python",
   "name": "python3"
  },
  "language_info": {
   "codemirror_mode": {
    "name": "ipython",
    "version": 3
   },
   "file_extension": ".py",
   "mimetype": "text/x-python",
   "name": "python",
   "nbconvert_exporter": "python",
   "pygments_lexer": "ipython3",
   "version": "3.7.4"
  }
 },
 "nbformat": 4,
 "nbformat_minor": 5
}
