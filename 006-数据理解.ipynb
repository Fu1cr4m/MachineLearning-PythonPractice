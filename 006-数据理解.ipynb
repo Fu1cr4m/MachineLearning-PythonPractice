{
 "cells": [
  {
   "cell_type": "markdown",
   "id": "5d7bff86",
   "metadata": {},
   "source": [
    "## 数据理解\n",
    "\n",
    "- 简单地查看数据\n",
    "- 审查数据的维度\n",
    "- 审查数据的类型和属性\n",
    "- 总结查看数据分类的分布情况\n",
    "- 通过描述性统计分析数据\n",
    "- 理解数据属性的相关性\n",
    "- 审查数据的分布情况"
   ]
  },
  {
   "cell_type": "code",
   "execution_count": 4,
   "id": "54ab32f4",
   "metadata": {
    "ExecuteTime": {
     "end_time": "2021-12-01T01:50:29.590111Z",
     "start_time": "2021-12-01T01:50:29.550947Z"
    }
   },
   "outputs": [
    {
     "data": {
      "text/plain": [
       "preg       int64\n",
       "plas       int64\n",
       "pres       int64\n",
       "skin       int64\n",
       "test       int64\n",
       "mass     float64\n",
       "pedi     float64\n",
       "age        int64\n",
       "class      int64\n",
       "dtype: object"
      ]
     },
     "execution_count": 4,
     "metadata": {},
     "output_type": "execute_result"
    }
   ],
   "source": [
    "from pandas import read_csv\n",
    "filename = 'pima_data.csv'\n",
    "names = ['preg', 'plas', 'pres', 'skin', 'test', 'mass', 'pedi', 'age', 'class']\n",
    "data = read_csv(filename, names=names)\n",
    "data.dtypes"
   ]
  },
  {
   "cell_type": "code",
   "execution_count": 6,
   "id": "9cb35330",
   "metadata": {
    "ExecuteTime": {
     "end_time": "2021-12-01T01:53:03.866064Z",
     "start_time": "2021-12-01T01:53:03.769121Z"
    }
   },
   "outputs": [
    {
     "name": "stdout",
     "output_type": "stream",
     "text": [
      "           preg      plas      pres  ...      pedi       age    class\n",
      "count  768.0000  768.0000  768.0000  ...  768.0000  768.0000  768.000\n",
      "mean     3.8451  120.8945   69.1055  ...    0.4719   33.2409    0.349\n",
      "std      3.3696   31.9726   19.3558  ...    0.3313   11.7602    0.477\n",
      "min      0.0000    0.0000    0.0000  ...    0.0780   21.0000    0.000\n",
      "25%      1.0000   99.0000   62.0000  ...    0.2437   24.0000    0.000\n",
      "50%      3.0000  117.0000   72.0000  ...    0.3725   29.0000    0.000\n",
      "75%      6.0000  140.2500   80.0000  ...    0.6262   41.0000    1.000\n",
      "max     17.0000  199.0000  122.0000  ...    2.4200   81.0000    1.000\n",
      "\n",
      "[8 rows x 9 columns]\n"
     ]
    }
   ],
   "source": [
    "# 描述性统计\n",
    "from pandas import set_option\n",
    "set_option('display.width', 100)\n",
    "set_option('precision', 4)\n",
    "print(data.describe())"
   ]
  },
  {
   "cell_type": "code",
   "execution_count": 7,
   "id": "61cc5641",
   "metadata": {
    "ExecuteTime": {
     "end_time": "2021-12-01T01:54:17.366618Z",
     "start_time": "2021-12-01T01:54:17.353652Z"
    }
   },
   "outputs": [
    {
     "data": {
      "text/plain": [
       "class\n",
       "0    500\n",
       "1    268\n",
       "dtype: int64"
      ]
     },
     "execution_count": 7,
     "metadata": {},
     "output_type": "execute_result"
    }
   ],
   "source": [
    "# 数据分组分布\n",
    "data.groupby('class').size()"
   ]
  },
  {
   "cell_type": "code",
   "execution_count": 9,
   "id": "4bc184a3",
   "metadata": {
    "ExecuteTime": {
     "end_time": "2021-12-01T01:56:37.251139Z",
     "start_time": "2021-12-01T01:56:37.202189Z"
    }
   },
   "outputs": [
    {
     "data": {
      "text/html": [
       "<div>\n",
       "<style scoped>\n",
       "    .dataframe tbody tr th:only-of-type {\n",
       "        vertical-align: middle;\n",
       "    }\n",
       "\n",
       "    .dataframe tbody tr th {\n",
       "        vertical-align: top;\n",
       "    }\n",
       "\n",
       "    .dataframe thead th {\n",
       "        text-align: right;\n",
       "    }\n",
       "</style>\n",
       "<table border=\"1\" class=\"dataframe\">\n",
       "  <thead>\n",
       "    <tr style=\"text-align: right;\">\n",
       "      <th></th>\n",
       "      <th>preg</th>\n",
       "      <th>plas</th>\n",
       "      <th>pres</th>\n",
       "      <th>skin</th>\n",
       "      <th>test</th>\n",
       "      <th>mass</th>\n",
       "      <th>pedi</th>\n",
       "      <th>age</th>\n",
       "      <th>class</th>\n",
       "    </tr>\n",
       "  </thead>\n",
       "  <tbody>\n",
       "    <tr>\n",
       "      <th>preg</th>\n",
       "      <td>1.00</td>\n",
       "      <td>0.13</td>\n",
       "      <td>0.14</td>\n",
       "      <td>-0.08</td>\n",
       "      <td>-0.07</td>\n",
       "      <td>0.02</td>\n",
       "      <td>-0.03</td>\n",
       "      <td>0.54</td>\n",
       "      <td>0.22</td>\n",
       "    </tr>\n",
       "    <tr>\n",
       "      <th>plas</th>\n",
       "      <td>0.13</td>\n",
       "      <td>1.00</td>\n",
       "      <td>0.15</td>\n",
       "      <td>0.06</td>\n",
       "      <td>0.33</td>\n",
       "      <td>0.22</td>\n",
       "      <td>0.14</td>\n",
       "      <td>0.26</td>\n",
       "      <td>0.47</td>\n",
       "    </tr>\n",
       "    <tr>\n",
       "      <th>pres</th>\n",
       "      <td>0.14</td>\n",
       "      <td>0.15</td>\n",
       "      <td>1.00</td>\n",
       "      <td>0.21</td>\n",
       "      <td>0.09</td>\n",
       "      <td>0.28</td>\n",
       "      <td>0.04</td>\n",
       "      <td>0.24</td>\n",
       "      <td>0.07</td>\n",
       "    </tr>\n",
       "    <tr>\n",
       "      <th>skin</th>\n",
       "      <td>-0.08</td>\n",
       "      <td>0.06</td>\n",
       "      <td>0.21</td>\n",
       "      <td>1.00</td>\n",
       "      <td>0.44</td>\n",
       "      <td>0.39</td>\n",
       "      <td>0.18</td>\n",
       "      <td>-0.11</td>\n",
       "      <td>0.07</td>\n",
       "    </tr>\n",
       "    <tr>\n",
       "      <th>test</th>\n",
       "      <td>-0.07</td>\n",
       "      <td>0.33</td>\n",
       "      <td>0.09</td>\n",
       "      <td>0.44</td>\n",
       "      <td>1.00</td>\n",
       "      <td>0.20</td>\n",
       "      <td>0.19</td>\n",
       "      <td>-0.04</td>\n",
       "      <td>0.13</td>\n",
       "    </tr>\n",
       "    <tr>\n",
       "      <th>mass</th>\n",
       "      <td>0.02</td>\n",
       "      <td>0.22</td>\n",
       "      <td>0.28</td>\n",
       "      <td>0.39</td>\n",
       "      <td>0.20</td>\n",
       "      <td>1.00</td>\n",
       "      <td>0.14</td>\n",
       "      <td>0.04</td>\n",
       "      <td>0.29</td>\n",
       "    </tr>\n",
       "    <tr>\n",
       "      <th>pedi</th>\n",
       "      <td>-0.03</td>\n",
       "      <td>0.14</td>\n",
       "      <td>0.04</td>\n",
       "      <td>0.18</td>\n",
       "      <td>0.19</td>\n",
       "      <td>0.14</td>\n",
       "      <td>1.00</td>\n",
       "      <td>0.03</td>\n",
       "      <td>0.17</td>\n",
       "    </tr>\n",
       "    <tr>\n",
       "      <th>age</th>\n",
       "      <td>0.54</td>\n",
       "      <td>0.26</td>\n",
       "      <td>0.24</td>\n",
       "      <td>-0.11</td>\n",
       "      <td>-0.04</td>\n",
       "      <td>0.04</td>\n",
       "      <td>0.03</td>\n",
       "      <td>1.00</td>\n",
       "      <td>0.24</td>\n",
       "    </tr>\n",
       "    <tr>\n",
       "      <th>class</th>\n",
       "      <td>0.22</td>\n",
       "      <td>0.47</td>\n",
       "      <td>0.07</td>\n",
       "      <td>0.07</td>\n",
       "      <td>0.13</td>\n",
       "      <td>0.29</td>\n",
       "      <td>0.17</td>\n",
       "      <td>0.24</td>\n",
       "      <td>1.00</td>\n",
       "    </tr>\n",
       "  </tbody>\n",
       "</table>\n",
       "</div>"
      ],
      "text/plain": [
       "       preg  plas  pres  skin  test  mass  pedi   age  class\n",
       "preg   1.00  0.13  0.14 -0.08 -0.07  0.02 -0.03  0.54   0.22\n",
       "plas   0.13  1.00  0.15  0.06  0.33  0.22  0.14  0.26   0.47\n",
       "pres   0.14  0.15  1.00  0.21  0.09  0.28  0.04  0.24   0.07\n",
       "skin  -0.08  0.06  0.21  1.00  0.44  0.39  0.18 -0.11   0.07\n",
       "test  -0.07  0.33  0.09  0.44  1.00  0.20  0.19 -0.04   0.13\n",
       "mass   0.02  0.22  0.28  0.39  0.20  1.00  0.14  0.04   0.29\n",
       "pedi  -0.03  0.14  0.04  0.18  0.19  0.14  1.00  0.03   0.17\n",
       "age    0.54  0.26  0.24 -0.11 -0.04  0.04  0.03  1.00   0.24\n",
       "class  0.22  0.47  0.07  0.07  0.13  0.29  0.17  0.24   1.00"
      ]
     },
     "execution_count": 9,
     "metadata": {},
     "output_type": "execute_result"
    }
   ],
   "source": [
    "# 数据属性的相关性\n",
    "set_option('precision', 2)\n",
    "data.corr(method='pearson')\n",
    "# 皮尔逊相关系数\n",
    "# 0.8-1.0 极强相关;0.6-0.8 强相关;0.4-0.6 中等程度相关;0.2-0.4 弱相关;0.0-0.2 极弱相关或无相关"
   ]
  },
  {
   "cell_type": "code",
   "execution_count": 10,
   "id": "1631c33e",
   "metadata": {
    "ExecuteTime": {
     "end_time": "2021-12-01T01:57:31.394975Z",
     "start_time": "2021-12-01T01:57:31.360069Z"
    }
   },
   "outputs": [
    {
     "data": {
      "text/plain": [
       "preg     0.90\n",
       "plas     0.17\n",
       "pres    -1.84\n",
       "skin     0.11\n",
       "test     2.27\n",
       "mass    -0.43\n",
       "pedi     1.92\n",
       "age      1.13\n",
       "class    0.64\n",
       "dtype: float64"
      ]
     },
     "execution_count": 10,
     "metadata": {},
     "output_type": "execute_result"
    }
   ],
   "source": [
    "# 数据分布分析\n",
    "# 通过分析数据的高斯分布情况来确认数据的偏离情况\n",
    "data.skew()"
   ]
  },
  {
   "cell_type": "code",
   "execution_count": null,
   "id": "b0ea86fd",
   "metadata": {},
   "outputs": [],
   "source": []
  }
 ],
 "metadata": {
  "kernelspec": {
   "display_name": "Python 3 (ipykernel)",
   "language": "python",
   "name": "python3"
  },
  "language_info": {
   "codemirror_mode": {
    "name": "ipython",
    "version": 3
   },
   "file_extension": ".py",
   "mimetype": "text/x-python",
   "name": "python",
   "nbconvert_exporter": "python",
   "pygments_lexer": "ipython3",
   "version": "3.7.4"
  }
 },
 "nbformat": 4,
 "nbformat_minor": 5
}
