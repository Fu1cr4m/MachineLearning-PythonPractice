{
 "cells": [
  {
   "cell_type": "markdown",
   "id": "4e9b0f2e",
   "metadata": {},
   "source": [
    "## 算法评估矩阵\n",
    "\n",
    "选择能够展示机器学习算法模型的准确度的评估矩阵，是计算和比较算法模型最好的方法，并且在评估算法的时，计算并比较这些评估矩阵，可以快速的选择合适的算法    \n"
   ]
  },
  {
   "cell_type": "code",
   "execution_count": 2,
   "id": "740da07f",
   "metadata": {
    "ExecuteTime": {
     "end_time": "2021-12-02T00:05:39.290923Z",
     "start_time": "2021-12-02T00:05:37.678980Z"
    }
   },
   "outputs": [
    {
     "name": "stdout",
     "output_type": "stream",
     "text": [
      "算法评估结果准确度： 0.775 (0.052)\n"
     ]
    }
   ],
   "source": [
    "# 分类算法矩阵\n",
    "# 评估分类算法的评估矩阵有以下几种\n",
    "# 分类准确度；对数损失函数；AUC图；混淆矩阵；分类报告\n",
    "\n",
    "# 分类准确度：算法自动分类正确的样本数除以所有样本数得出的结果\n",
    "# 通常，准确度越高，分类器越好\n",
    "\n",
    "import pandas as pd\n",
    "from sklearn.model_selection import KFold,cross_val_score\n",
    "from sklearn.linear_model import LogisticRegression\n",
    "import warnings\n",
    "warnings.filterwarnings('ignore')\n",
    "filename = 'pima_data.csv'\n",
    "names = ['preg', 'plas', 'pres', 'skin', 'test', 'mass', 'pedi', 'age', 'class']\n",
    "data = pd.read_csv(filename, names=names)\n",
    "# 将数据分为输入数据和输出结果\n",
    "array = data.values\n",
    "X = array[:, 0:8]\n",
    "Y = array[:, 8]\n",
    "\n",
    "seed = 7\n",
    "num_folds = 9\n",
    "kfold = KFold(n_splits=num_folds, random_state=seed)\n",
    "model = LogisticRegression()\n",
    "result = cross_val_score(model, X, Y, cv=kfold)\n",
    "print('算法评估结果准确度： %.3f (%.3f)' % (result.mean(), result.std()))"
   ]
  },
  {
   "cell_type": "code",
   "execution_count": 3,
   "id": "93a500d2",
   "metadata": {
    "ExecuteTime": {
     "end_time": "2021-12-02T00:05:39.337249Z",
     "start_time": "2021-12-02T00:05:39.294896Z"
    }
   },
   "outputs": [
    {
     "name": "stdout",
     "output_type": "stream",
     "text": [
      "Logloss -0.498 (0.011)\n"
     ]
    }
   ],
   "source": [
    "# 对数损失函数\n",
    "scoring = 'neg_log_loss'\n",
    "result = cross_val_score(model, X, Y, scoring=scoring)\n",
    "print('Logloss %.3f (%.3f)' % (result.mean(), result.std()))"
   ]
  },
  {
   "cell_type": "code",
   "execution_count": 4,
   "id": "bbedcf59",
   "metadata": {
    "ExecuteTime": {
     "end_time": "2021-12-02T00:05:39.400618Z",
     "start_time": "2021-12-02T00:05:39.345223Z"
    }
   },
   "outputs": [
    {
     "name": "stdout",
     "output_type": "stream",
     "text": [
      "AUC 0.825 (0.028)\n"
     ]
    }
   ],
   "source": [
    "# AUC图：评价分类器的指标\n",
    "scoring = 'roc_auc'\n",
    "result = cross_val_score(model, X, Y, scoring=scoring)\n",
    "print('AUC %.3f (%.3f)' % (result.mean(), result.std()))"
   ]
  },
  {
   "cell_type": "code",
   "execution_count": 5,
   "id": "d81a1945",
   "metadata": {
    "ExecuteTime": {
     "end_time": "2021-12-02T00:05:39.448516Z",
     "start_time": "2021-12-02T00:05:39.408606Z"
    }
   },
   "outputs": [
    {
     "name": "stdout",
     "output_type": "stream",
     "text": [
      "     0   1\n",
      "0  152  19\n",
      "1   31  52\n"
     ]
    }
   ],
   "source": [
    "# 混淆矩阵:用于比较分类结果和实际测得值\n",
    "import pandas as pd\n",
    "from sklearn.model_selection import train_test_split\n",
    "from sklearn.metrics import confusion_matrix\n",
    "test_size = 0.33\n",
    "seed = 4\n",
    "X_train, X_test, Y_traing, Y_test = train_test_split(X, Y, test_size=test_size, random_state=seed)\n",
    "model.fit(X_train, Y_traing)\n",
    "predicted = model.predict(X_test)\n",
    "matrix = confusion_matrix(Y_test, predicted)\n",
    "classes = ['0', '1']\n",
    "dataframe = pd.DataFrame(data=matrix, index=classes, columns=classes)\n",
    "print(dataframe)"
   ]
  },
  {
   "cell_type": "code",
   "execution_count": 6,
   "id": "cb2d314a",
   "metadata": {
    "ExecuteTime": {
     "end_time": "2021-12-02T00:05:39.541394Z",
     "start_time": "2021-12-02T00:05:39.510459Z"
    }
   },
   "outputs": [
    {
     "name": "stdout",
     "output_type": "stream",
     "text": [
      "              precision    recall  f1-score   support\n",
      "\n",
      "         0.0       0.83      0.89      0.86       171\n",
      "         1.0       0.73      0.63      0.68        83\n",
      "\n",
      "    accuracy                           0.80       254\n",
      "   macro avg       0.78      0.76      0.77       254\n",
      "weighted avg       0.80      0.80      0.80       254\n",
      "\n"
     ]
    }
   ],
   "source": [
    "# 分类报告：对分类问题的评估报告\n",
    "\n",
    "from sklearn.metrics import classification_report\n",
    "\n",
    "report = classification_report(Y_test, predicted)\n",
    "print(report)"
   ]
  },
  {
   "cell_type": "code",
   "execution_count": 7,
   "id": "b5600bcf",
   "metadata": {
    "ExecuteTime": {
     "end_time": "2021-12-02T00:05:40.680120Z",
     "start_time": "2021-12-02T00:05:40.639221Z"
    }
   },
   "outputs": [
    {
     "name": "stdout",
     "output_type": "stream",
     "text": [
      "MAE -0.230 (0.019)\n"
     ]
    }
   ],
   "source": [
    "# 回归算法矩阵\n",
    "# 三种评价回归算法的评估矩阵：MAE平均绝对误差；MSE均方误差；决定系数R²\n",
    "\n",
    "# 平均绝对误差：所有单个预测值与算数平均值的偏差的绝对值的平均值，可以更好地反应预测值误差的实际情况\n",
    "\n",
    "# 测试了之前的数据集\n",
    "n_splits = 10\n",
    "seed =7\n",
    "kfold = KFold(n_splits=n_splits, random_state=seed)\n",
    "scoring = 'neg_mean_absolute_error'\n",
    "result = cross_val_score(model, X, Y, scoring=scoring)\n",
    "print('MAE %.3f (%.3f)' % (result.mean(), result.std()))"
   ]
  },
  {
   "cell_type": "code",
   "execution_count": 8,
   "id": "da7f864d",
   "metadata": {
    "ExecuteTime": {
     "end_time": "2021-12-02T00:05:42.893781Z",
     "start_time": "2021-12-02T00:05:41.436707Z"
    }
   },
   "outputs": [
    {
     "name": "stdout",
     "output_type": "stream",
     "text": [
      "MAE -5.049 (1.706)\n"
     ]
    }
   ],
   "source": [
    "filename = 'housing.csv'\n",
    "names = ['CRIM', 'ZN', 'INDUS', 'CHAS', 'NOX', 'RM', 'AGE', 'DIS', 'RAD', \n",
    "         'TAX', 'PRTATIO', 'B', 'LSTAT', 'MEDV']\n",
    "data = pd.read_csv(filename, names=names, delim_whitespace=True)\n",
    "# 将数据分为输入数据和输出结果\n",
    "array = data.values\n",
    "X = array[:, 0:13]\n",
    "Y = array[:, 13]\n",
    "n_splits = 10\n",
    "seed =7\n",
    "kfold = KFold(n_splits=n_splits, random_state=seed)\n",
    "model = LogisticRegression()\n",
    "scoring = 'neg_mean_absolute_error'\n",
    "result = cross_val_score(model, X, Y.astype('int'), cv=kfold, scoring=scoring)\n",
    "print('MAE %.3f (%.3f)' % (result.mean(), result.std()))"
   ]
  },
  {
   "cell_type": "code",
   "execution_count": 9,
   "id": "83492b13",
   "metadata": {
    "ExecuteTime": {
     "end_time": "2021-12-02T00:05:44.562680Z",
     "start_time": "2021-12-02T00:05:42.900620Z"
    }
   },
   "outputs": [
    {
     "name": "stdout",
     "output_type": "stream",
     "text": [
      "MSE -55.781 (40.712)\n"
     ]
    }
   ],
   "source": [
    "# 均方误差：衡量平均误差的方法，可以评价数据的变化程度\n",
    "scoring = 'neg_mean_squared_error'\n",
    "result = cross_val_score(model, X, Y.astype('int'), cv=kfold, scoring=scoring)\n",
    "print('MSE %.3f (%.3f)' % (result.mean(), result.std()))"
   ]
  },
  {
   "cell_type": "code",
   "execution_count": 10,
   "id": "636b1434",
   "metadata": {
    "ExecuteTime": {
     "end_time": "2021-12-02T00:05:46.293640Z",
     "start_time": "2021-12-02T00:05:44.567688Z"
    }
   },
   "outputs": [
    {
     "name": "stdout",
     "output_type": "stream",
     "text": [
      "R2 -0.602 (1.302)\n"
     ]
    }
   ],
   "source": [
    "# 决定系数R²\n",
    "scoring = 'r2'\n",
    "result = cross_val_score(model, X, Y.astype('int'), cv=kfold, scoring=scoring)\n",
    "print('R2 %.3f (%.3f)' % (result.mean(), result.std()))"
   ]
  },
  {
   "cell_type": "code",
   "execution_count": null,
   "id": "0d576724",
   "metadata": {},
   "outputs": [],
   "source": []
  }
 ],
 "metadata": {
  "kernelspec": {
   "display_name": "Python 3 (ipykernel)",
   "language": "python",
   "name": "python3"
  },
  "language_info": {
   "codemirror_mode": {
    "name": "ipython",
    "version": 3
   },
   "file_extension": ".py",
   "mimetype": "text/x-python",
   "name": "python",
   "nbconvert_exporter": "python",
   "pygments_lexer": "ipython3",
   "version": "3.7.4"
  }
 },
 "nbformat": 4,
 "nbformat_minor": 5
}
