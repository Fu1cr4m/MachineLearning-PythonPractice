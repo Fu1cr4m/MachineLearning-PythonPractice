{
 "cells": [
  {
   "cell_type": "markdown",
   "id": "a2114af1",
   "metadata": {},
   "source": [
    "# 结果部署\n",
    "\n",
    "结果部署是机器学习项目的最后的一步，也是最重要的一步，选定算法之后，对算法训练生成模型，并部署到生产环境上，以便机器学习解决实际问题。模型生成后，也需要定期对模型进行更新，使模型处于最新最有效的状态，通常建议3~6个月更新一次模型\n",
    "\n",
    "## 持久化加载模型\n",
    "\n",
    "光得到准确度的模型算法不是机器学习的最后，在实际项目中，需要将生成的模型序列化，并将其发布到生产环境中，当有新的数据出现时，需要反序列化已保存的模型。\n",
    "\n",
    "### 模型序列化和重用的重要性\n",
    "\n",
    "### 通过pickle序列化和反序列化机器学习的模型\n",
    "\n",
    "### 通过joblib序列化和反序列化机器学习的模型"
   ]
  },
  {
   "cell_type": "code",
   "execution_count": 3,
   "id": "3a51ad95",
   "metadata": {
    "ExecuteTime": {
     "end_time": "2021-12-02T05:31:03.694603Z",
     "start_time": "2021-12-02T05:31:03.651648Z"
    }
   },
   "outputs": [
    {
     "name": "stdout",
     "output_type": "stream",
     "text": [
      "算法评估结果： 80.315 %\n"
     ]
    }
   ],
   "source": [
    "# 通过pickle序列化机器学习算法生成的模型，存到文件中；\n",
    "# 当需要对新数据进行预测时，将文件中模型反序列化预测新数据结果\n",
    "\n",
    "import pandas as pd\n",
    "from sklearn.model_selection import train_test_split\n",
    "from sklearn.linear_model import LogisticRegression\n",
    "from pickle import dump\n",
    "from pickle import load\n",
    "import warnings\n",
    "warnings.filterwarnings('ignore')\n",
    "# 导入数据\n",
    "filename = 'pima_data.csv'\n",
    "names = ['preg', 'plas', 'pres', 'skin', 'test', 'mass', 'pedi', 'age', 'class']\n",
    "data = pd.read_csv(filename, names=names)\n",
    "array = data.values\n",
    "X = array[:, 0:8]\n",
    "Y = array[:, 8]\n",
    "test_size = 0.33\n",
    "seed = 4\n",
    "X_train, X_test, Y_traing, Y_test =train_test_split(X, Y, test_size=test_size, random_state=seed)\n",
    "\n",
    "# 训练模型\n",
    "model = LogisticRegression()\n",
    "model.fit(X_train, Y_traing)\n",
    "\n",
    "# 保存模型\n",
    "model_file = 'finalized_model.sav'\n",
    "with open(model_file, 'wb') as model_f:\n",
    "    # 模型序列化\n",
    "    dump(model, model_f)\n",
    "    \n",
    "# 加载模型\n",
    "with open(model_file, 'rb') as model_f:\n",
    "    # 模型反序列化\n",
    "    loaded_model = load(model_f)\n",
    "    result = loaded_model.score(X_test, Y_test)\n",
    "    print('算法评估结果： %.3f %%' % (result * 100))"
   ]
  },
  {
   "cell_type": "code",
   "execution_count": 4,
   "id": "07570879",
   "metadata": {
    "ExecuteTime": {
     "end_time": "2021-12-02T05:34:30.492157Z",
     "start_time": "2021-12-02T05:34:30.457224Z"
    }
   },
   "outputs": [
    {
     "name": "stdout",
     "output_type": "stream",
     "text": [
      "算法评估结果： 80.315 %\n"
     ]
    }
   ],
   "source": [
    "# 通过joblib序列化和反序列化机器学习模型\n",
    "# joblib是Scipy一部分，提供通用工具来序列化Python的对象和反序列化Python对象\n",
    "# 采用numpy的格式保存数据\n",
    "\n",
    "from sklearn.externals.joblib import dump,load\n",
    "\n",
    "# 训练模型\n",
    "model = LogisticRegression()\n",
    "model.fit(X_train, Y_traing)\n",
    "\n",
    "# 保存模型\n",
    "model_file = 'finalized_model_joblib.sav'\n",
    "with open(model_file, 'wb') as model_f:\n",
    "    # 模型序列化\n",
    "    dump(model, model_f)\n",
    "    \n",
    "# 加载模型\n",
    "with open(model_file, 'rb') as model_f:\n",
    "    # 模型反序列化\n",
    "    loaded_model = load(model_f)\n",
    "    result = loaded_model.score(X_test, Y_test)\n",
    "    print('算法评估结果： %.3f %%' % (result * 100))"
   ]
  },
  {
   "cell_type": "markdown",
   "id": "f7c9a2fd",
   "metadata": {},
   "source": [
    "## 生成模型技巧\n",
    "\n",
    "在生成机器学习模型时，需要考虑以下几个问题：\n",
    "- Python版本\n",
    "    - 序列化和反序列化时需要使用相同的Python版本\n",
    "- 类库版本\n",
    "    - 需要记录所有的主要类库的版本\n",
    "- 手动序列化\n",
    "    - 有些时候手动记录下来比仅序列化模型更要价值"
   ]
  },
  {
   "cell_type": "code",
   "execution_count": null,
   "id": "8a0bef6a",
   "metadata": {},
   "outputs": [],
   "source": []
  }
 ],
 "metadata": {
  "kernelspec": {
   "display_name": "Python 3 (ipykernel)",
   "language": "python",
   "name": "python3"
  },
  "language_info": {
   "codemirror_mode": {
    "name": "ipython",
    "version": 3
   },
   "file_extension": ".py",
   "mimetype": "text/x-python",
   "name": "python",
   "nbconvert_exporter": "python",
   "pygments_lexer": "ipython3",
   "version": "3.7.4"
  }
 },
 "nbformat": 4,
 "nbformat_minor": 5
}
