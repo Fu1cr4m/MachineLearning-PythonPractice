{
 "cells": [
  {
   "cell_type": "markdown",
   "id": "22d3664d",
   "metadata": {},
   "source": [
    "## 数据特征选定\n",
    "\n",
    "数据和特征决定了机器学习的上限，而模型和算法只是逼近这个上限而已    \n",
    "特征工程目的是最大限度地从原始数据中提取合适的特征，以供算法和模型使用，sklearn提供较为完整的特征处理方法，包括数据预处理、特征选择、降维等    \n",
    "四个数据特征选择方法：\n",
    "- 单变量特征选定\n",
    "- 递归特征消除\n",
    "- 主要成分分析\n",
    "- 特征的重要性\n",
    "\n",
    "### 特征选定\n",
    "有助于提高预测结果准确度的特征数据，或者有助于发现我们感兴趣的输出结果的特征数据    \n",
    "在开始建模前，执行特征选定有助于：\n",
    "- 降低数据的拟合度：较少的冗余数据，使得算法得出结论的机会更大\n",
    "- 提高算法精度：较少的误导数据，能够提高算法的准确度\n",
    "- 减少训练时间：越少的数据，训练模型所需要的时间越少"
   ]
  },
  {
   "cell_type": "code",
   "execution_count": 1,
   "id": "f353eae6",
   "metadata": {
    "ExecuteTime": {
     "end_time": "2021-12-02T00:03:36.959969Z",
     "start_time": "2021-12-02T00:03:35.125920Z"
    }
   },
   "outputs": [
    {
     "name": "stdout",
     "output_type": "stream",
     "text": [
      "[ 111.52  1411.887   17.605   53.108 2175.565  127.669    5.393  181.304]\n",
      "[[148.    0.   33.6  50. ]\n",
      " [ 85.    0.   26.6  31. ]\n",
      " [183.    0.   23.3  32. ]\n",
      " ...\n",
      " [121.  112.   26.2  30. ]\n",
      " [126.    0.   30.1  47. ]\n",
      " [ 93.    0.   30.4  23. ]]\n"
     ]
    }
   ],
   "source": [
    "# 单变量特征选定\n",
    "# 卡方检验选择四个对结果影响最大的数据特征\n",
    "\n",
    "import pandas as pd\n",
    "import numpy as np\n",
    "from sklearn.feature_selection import SelectKBest,chi2\n",
    "\n",
    "filename = 'pima_data.csv'\n",
    "names = ['preg', 'plas', 'pres', 'skin', 'test', 'mass', 'pedi', 'age', 'class']\n",
    "data = pd.read_csv(filename, names=names)\n",
    "# 将数据分为输入数据和输出结果\n",
    "array = data.values\n",
    "X = array[:, 0:8]\n",
    "Y = array[:, 8]\n",
    "# 特征选定\n",
    "test = SelectKBest(score_func=chi2, k=4)\n",
    "fit = test.fit(X, Y)\n",
    "np.set_printoptions(precision=3)\n",
    "print(fit.scores_)\n",
    "features = fit.transform(X)\n",
    "print(features)"
   ]
  },
  {
   "cell_type": "code",
   "execution_count": 2,
   "id": "87176fa6",
   "metadata": {
    "ExecuteTime": {
     "end_time": "2021-12-02T00:03:37.916770Z",
     "start_time": "2021-12-02T00:03:37.851123Z"
    }
   },
   "outputs": [
    {
     "name": "stdout",
     "output_type": "stream",
     "text": [
      "特征个数：  3\n",
      "被选定的特征：  [ True False False False False  True  True False]\n",
      "特征排名：  [1 2 3 5 6 1 1 4]\n"
     ]
    }
   ],
   "source": [
    "# 递归特征消除：使用一个基模型来进行多轮训练\n",
    "# 每轮训练后消除若干权值稀疏的特征，在基于新的特征集进行下一轮训练\n",
    "from sklearn.feature_selection import RFE\n",
    "from sklearn.linear_model import LogisticRegression\n",
    "import warnings\n",
    "warnings.filterwarnings(\"ignore\")#忽略警告\n",
    "\n",
    "# 特征选定\n",
    "model = LogisticRegression()\n",
    "rfe = RFE(model, 3)\n",
    "fit = rfe.fit(X, Y)\n",
    "print('特征个数： ', fit.n_features_)\n",
    "print('被选定的特征： ', fit.support_)\n",
    "print('特征排名： ', fit.ranking_)"
   ]
  },
  {
   "cell_type": "code",
   "execution_count": 3,
   "id": "4af367ab",
   "metadata": {
    "ExecuteTime": {
     "end_time": "2021-12-02T00:03:40.186487Z",
     "start_time": "2021-12-02T00:03:40.152543Z"
    }
   },
   "outputs": [
    {
     "name": "stdout",
     "output_type": "stream",
     "text": [
      "解释方差： [0.889 0.062 0.026]\n",
      "[[-2.022e-03  9.781e-02  1.609e-02  6.076e-02  9.931e-01  1.401e-02\n",
      "   5.372e-04 -3.565e-03]\n",
      " [-2.265e-02 -9.722e-01 -1.419e-01  5.786e-02  9.463e-02 -4.697e-02\n",
      "  -8.168e-04 -1.402e-01]\n",
      " [-2.246e-02  1.434e-01 -9.225e-01 -3.070e-01  2.098e-02 -1.324e-01\n",
      "  -6.400e-04 -1.255e-01]]\n"
     ]
    }
   ],
   "source": [
    "# PAC 主要成分分析： 使用线性代数来压缩数据，通常被称作数据降维\n",
    "# 除了PCA还有LDA线性判别分析\n",
    "from sklearn.decomposition import PCA\n",
    "\n",
    "pca = PCA(n_components=3)\n",
    "fit = pca.fit(X)\n",
    "print(\"解释方差： %s\" % fit.explained_variance_ratio_)\n",
    "print(fit.components_)"
   ]
  },
  {
   "cell_type": "code",
   "execution_count": 4,
   "id": "633bbb89",
   "metadata": {
    "ExecuteTime": {
     "end_time": "2021-12-02T00:04:03.464091Z",
     "start_time": "2021-12-02T00:04:03.342446Z"
    }
   },
   "outputs": [
    {
     "data": {
      "text/plain": [
       "array([0.108, 0.238, 0.093, 0.069, 0.076, 0.144, 0.121, 0.151])"
      ]
     },
     "execution_count": 4,
     "metadata": {},
     "output_type": "execute_result"
    }
   ],
   "source": [
    "# 特征重要性\n",
    "# 袋装决策树算法BDT，随机森林算法和极端随机森林算法都是用来计算数据特征重要性的算法\n",
    "\n",
    "# 通过决策树计算特征的重要性\n",
    "from sklearn.ensemble import ExtraTreesClassifier\n",
    "\n",
    "model = ExtraTreesClassifier()\n",
    "fit = model.fit(X, Y)\n",
    "fit.feature_importances_"
   ]
  },
  {
   "cell_type": "code",
   "execution_count": null,
   "id": "a7307e0b",
   "metadata": {},
   "outputs": [],
   "source": []
  }
 ],
 "metadata": {
  "kernelspec": {
   "display_name": "Python 3 (ipykernel)",
   "language": "python",
   "name": "python3"
  },
  "language_info": {
   "codemirror_mode": {
    "name": "ipython",
    "version": 3
   },
   "file_extension": ".py",
   "mimetype": "text/x-python",
   "name": "python",
   "nbconvert_exporter": "python",
   "pygments_lexer": "ipython3",
   "version": "3.7.4"
  }
 },
 "nbformat": 4,
 "nbformat_minor": 5
}
