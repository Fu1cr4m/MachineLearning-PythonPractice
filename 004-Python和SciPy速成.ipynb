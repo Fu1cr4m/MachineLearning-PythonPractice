{
 "cells": [
  {
   "cell_type": "markdown",
   "id": "d7253f5c",
   "metadata": {},
   "source": [
    "## 本章内容\n",
    "\n",
    "- 熟悉Python基本语法\n",
    "- 熟悉Numpy，Matplotlib和Pandas\n"
   ]
  },
  {
   "cell_type": "code",
   "execution_count": 2,
   "id": "e114b575",
   "metadata": {
    "ExecuteTime": {
     "end_time": "2021-11-30T13:38:46.692700Z",
     "start_time": "2021-11-30T13:38:46.672755Z"
    }
   },
   "outputs": [
    {
     "name": "stdout",
     "output_type": "stream",
     "text": [
      "H\n",
      "ello\n",
      "11\n"
     ]
    }
   ],
   "source": [
    "# 基本数据类型和赋值运算\n",
    "\n",
    "# 字符串\n",
    "data = 'Hello world'\n",
    "print(data[0])\n",
    "print(data[1:5])\n",
    "print(len(data))"
   ]
  },
  {
   "cell_type": "code",
   "execution_count": 3,
   "id": "a698851b",
   "metadata": {
    "ExecuteTime": {
     "end_time": "2021-11-30T13:41:56.598687Z",
     "start_time": "2021-11-30T13:41:56.577740Z"
    }
   },
   "outputs": [
    {
     "data": {
      "text/plain": [
       "3"
      ]
     },
     "execution_count": 3,
     "metadata": {},
     "output_type": "execute_result"
    }
   ],
   "source": [
    "# 自定义函数\n",
    "def mysum(x, y):\n",
    "    \"这是自定义函数\"\n",
    "    return x + y\n",
    "\n",
    "# 测试函数\n",
    "result = mysum(1, 2)\n",
    "result"
   ]
  },
  {
   "cell_type": "code",
   "execution_count": 4,
   "id": "33e07b27",
   "metadata": {
    "ExecuteTime": {
     "end_time": "2021-11-30T13:44:48.938561Z",
     "start_time": "2021-11-30T13:44:48.924587Z"
    }
   },
   "outputs": [
    {
     "name": "stdout",
     "output_type": "stream",
     "text": [
      "1205\n",
      "\n",
      "1206\n",
      "\n",
      "1208\n",
      "\n",
      "1210\n"
     ]
    }
   ],
   "source": [
    "# with语句\n",
    "with open('test_with.txt') as test_with:\n",
    "    for i in test_with:\n",
    "        print(i)"
   ]
  },
  {
   "cell_type": "code",
   "execution_count": 5,
   "id": "3cd5a1b5",
   "metadata": {
    "ExecuteTime": {
     "end_time": "2021-11-30T13:46:09.217293Z",
     "start_time": "2021-11-30T13:46:09.201334Z"
    }
   },
   "outputs": [
    {
     "name": "stdout",
     "output_type": "stream",
     "text": [
      "1205\n",
      "\n",
      "1206\n",
      "\n",
      "1208\n",
      "\n",
      "1210\n"
     ]
    }
   ],
   "source": [
    "# 传统的try/finally范式\n",
    "test_with = open('test_with.txt')\n",
    "try:\n",
    "    for i in test_with:\n",
    "        print(i)\n",
    "finally:\n",
    "    test_with.close()"
   ]
  },
  {
   "cell_type": "code",
   "execution_count": 7,
   "id": "4ac2d373",
   "metadata": {
    "ExecuteTime": {
     "end_time": "2021-11-30T13:53:59.053838Z",
     "start_time": "2021-11-30T13:53:59.040868Z"
    }
   },
   "outputs": [
    {
     "name": "stdout",
     "output_type": "stream",
     "text": [
      "[1 2 3]\n",
      "(3,)\n",
      "[[1 2 3]\n",
      " [2 3 4]\n",
      " [3 4 5]]\n",
      "(3, 3)\n"
     ]
    }
   ],
   "source": [
    "# Numpy速成\n",
    "import numpy as np\n",
    "# 创建数组\n",
    "myarray = np.array([1, 2, 3])\n",
    "print(myarray)\n",
    "print(myarray.shape)\n",
    "# 创建多维数组\n",
    "myarray = np.array([[1, 2, 3], [2, 3, 4], [3, 4, 5]])\n",
    "print(myarray)\n",
    "print(myarray.shape)"
   ]
  },
  {
   "cell_type": "code",
   "execution_count": 9,
   "id": "eb95bdf7",
   "metadata": {
    "ExecuteTime": {
     "end_time": "2021-11-30T13:56:52.955727Z",
     "start_time": "2021-11-30T13:56:52.938762Z"
    }
   },
   "outputs": [
    {
     "name": "stdout",
     "output_type": "stream",
     "text": [
      "第一行 [1 2 3]\n",
      "最后一行 [3 4 5]\n",
      "第三列数据 [3 4 5]\n",
      "第二行第三列 4\n"
     ]
    }
   ],
   "source": [
    "# 访问数据\n",
    "print('第一行', myarray[0])\n",
    "print('最后一行', myarray[-1])\n",
    "print('第三列数据', myarray[:,2])\n",
    "print('第二行第三列', myarray[1, 2])"
   ]
  },
  {
   "cell_type": "code",
   "execution_count": 11,
   "id": "4d0b70aa",
   "metadata": {
    "ExecuteTime": {
     "end_time": "2021-11-30T14:09:21.662359Z",
     "start_time": "2021-11-30T14:09:21.640379Z"
    }
   },
   "outputs": [
    {
     "name": "stdout",
     "output_type": "stream",
     "text": [
      "向量加法运算\n",
      " [[12 14 16]\n",
      " [24 26 28]\n",
      " [36 38 40]]\n",
      "向量乘法运算\n",
      " [[ 11  24  39]\n",
      " [ 44  69  96]\n",
      " [ 99 136 175]]\n"
     ]
    }
   ],
   "source": [
    "myarray1 = np.array([[1, 2, 3], [2, 3, 4], [3, 4, 5]])\n",
    "myarray2 = np.array([[11, 12, 13], [22, 23, 24], [33, 34, 35]])\n",
    "print('向量加法运算\\n', myarray1 + myarray2)\n",
    "print('向量乘法运算\\n', myarray1 * myarray2)"
   ]
  },
  {
   "cell_type": "code",
   "execution_count": 20,
   "id": "f6c363dd",
   "metadata": {
    "ExecuteTime": {
     "end_time": "2021-11-30T14:27:00.827180Z",
     "start_time": "2021-11-30T14:27:00.502415Z"
    }
   },
   "outputs": [
    {
     "data": {
      "image/png": "[encoded data removed]",
      "text/plain": [
       "<Figure size 432x288 with 1 Axes>"
      ]
     },
     "metadata": {
      "needs_background": "light"
     },
     "output_type": "display_data"
    }
   ],
   "source": [
    "# Matplotlib速成\n",
    "# 调用plot(),scatter()等方法，并为绘图填充数据，数据是Numpy的ndarray类型的对象\n",
    "# 设定数据标签，使用xlabel(),ylabel()\n",
    "# 展示绘图结果，使用show()\n",
    "import matplotlib.pyplot as plt\n",
    "\n",
    "#绘制线条图\n",
    "\n",
    "# 定义绘图数据\n",
    "myarray = np.array([[1, 2, 3], [3, 2, 3], [3, 2, 3]])\n",
    "# 初始化绘图\n",
    "plt.plot(myarray)\n",
    "plt.plot(myarray)\n",
    "# 设定x轴和y轴\n",
    "plt.xlabel('x axis')\n",
    "plt.ylabel('y axis')\n",
    "# 绘图\n",
    "plt.show()"
   ]
  },
  {
   "cell_type": "code",
   "execution_count": 2,
   "id": "fd140c9f",
   "metadata": {
    "ExecuteTime": {
     "end_time": "2021-12-01T00:34:03.597754Z",
     "start_time": "2021-12-01T00:34:03.284752Z"
    }
   },
   "outputs": [
    {
     "data": {
      "image/png": "[encoded data removed]",
      "text/plain": [
       "<Figure size 432x288 with 1 Axes>"
      ]
     },
     "metadata": {
      "needs_background": "light"
     },
     "output_type": "display_data"
    }
   ],
   "source": [
    "# 绘制散点图\n",
    "import matplotlib.pyplot as plt\n",
    "import numpy as np\n",
    "\n",
    "myarray1 = np.array([1, 2, 3])\n",
    "myarray2 = np.array([33, 34, 35])\n",
    "# 初始化绘图\n",
    "plt.scatter(myarray1, myarray2)\n",
    "# 设定x轴和y轴\n",
    "plt.xlabel(\"x axis\")\n",
    "plt.ylabel(\"y axis\")\n",
    "plt.show()"
   ]
  },
  {
   "cell_type": "code",
   "execution_count": 4,
   "id": "437c68d7",
   "metadata": {
    "ExecuteTime": {
     "end_time": "2021-12-01T00:38:46.232652Z",
     "start_time": "2021-12-01T00:38:46.196775Z"
    }
   },
   "outputs": [
    {
     "name": "stdout",
     "output_type": "stream",
     "text": [
      "a    1\n",
      "b    2\n",
      "c    3\n",
      "dtype: int32\n",
      "1\n"
     ]
    }
   ],
   "source": [
    "# pandas速成\n",
    "# series一维数组；time-series时间索引数组；dataframe二位表格型数据结构；panel三维数组（二维容器）\n",
    "\n",
    "import pandas as pd\n",
    "\n",
    "mydayyr = np.array([1, 2, 3])\n",
    "index = ['a', 'b', 'c']\n",
    "myseries = pd.Series(mydayyr, index=index)\n",
    "print(myseries)\n",
    "print(myseries[0])"
   ]
  },
  {
   "cell_type": "code",
   "execution_count": 6,
   "id": "a030e3f3",
   "metadata": {
    "ExecuteTime": {
     "end_time": "2021-12-01T00:41:36.572742Z",
     "start_time": "2021-12-01T00:41:36.537820Z"
    }
   },
   "outputs": [
    {
     "name": "stdout",
     "output_type": "stream",
     "text": [
      "      col1  col2  col3\n",
      "row1     1     2     3\n",
      "row2     3     2     3\n",
      "row3     3     2     3\n",
      "访问col3的数据 row1    3\n",
      "row2    3\n",
      "row3    3\n",
      "Name: col3, dtype: int32\n"
     ]
    }
   ],
   "source": [
    "# dataframe 通过指定列名访问特定列数据pan\n",
    "myarray = np.array([[1, 2, 3], [3, 2, 3], [3, 2, 3]])\n",
    "rowindex = ['row1', 'row2', 'row3']\n",
    "colname = ['col1', 'col2', 'col3']\n",
    "mydataframe = pd.DataFrame(data=myarray, index=rowindex, columns=colname)\n",
    "print(mydataframe)\n",
    "print('访问col3的数据', mydataframe['col3'])"
   ]
  },
  {
   "cell_type": "code",
   "execution_count": null,
   "id": "0cad76b3",
   "metadata": {},
   "outputs": [],
   "source": []
  }
 ],
 "metadata": {
  "kernelspec": {
   "display_name": "Python 3 (ipykernel)",
   "language": "python",
   "name": "python3"
  },
  "language_info": {
   "codemirror_mode": {
    "name": "ipython",
    "version": 3
   },
   "file_extension": ".py",
   "mimetype": "text/x-python",
   "name": "python",
   "nbconvert_exporter": "python",
   "pygments_lexer": "ipython3",
   "version": "3.7.4"
  }
 },
 "nbformat": 4,
 "nbformat_minor": 5
}
