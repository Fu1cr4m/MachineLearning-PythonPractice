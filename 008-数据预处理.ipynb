{
 "cells": [
  {
   "cell_type": "markdown",
   "id": "dad189fd",
   "metadata": {},
   "source": [
    "# 数据准备\n",
    "\n",
    "\n",
    "- 特征选择是困难耗时的，也需要对需求的理解和专业知识的掌握。在机器学习的应用开发中，最基础的是特征工程。    \n",
    "- 吴恩达老师的这句话充分概括了特征工程的复杂度及其重要性。Kagglers比赛和天池比赛的冠军其实在比赛中并没有用到很高深的算法，大多数都是在特征工程这个环节做了出色的工作，然后使用一些常见的算法，如逻辑回归，就能得到性能出色的模型。因此特征工程是建立高准确度机器学习算法的基础。所以也有机器学习方面的专家这样来概括机器学习：“使用正确的特征来构建正确的模型，以完成既定的任务”。"
   ]
  },
  {
   "cell_type": "markdown",
   "id": "6f4d9937",
   "metadata": {},
   "source": [
    "数据预处理要根据本身特性和格式要求，进行缺失值填充、无效数据剔除、冗余维选择，预处理大概分为三步：数据的准备，转换，输出；有效的数据特征转换可以提高算法模型的准确度，数据转换方法有以下几种：\n",
    "- 调整数据尺度\n",
    "- 正态化数据\n",
    "- 标准化数据\n",
    "- 二值数据\n",
    "\n",
    "处理数据步骤：\n",
    "- 导入数据\n",
    "- 按照算法输入和输出整理数据\n",
    "- 格式化输入数据\n",
    "- 总结显示数据的变化"
   ]
  },
  {
   "cell_type": "code",
   "execution_count": 1,
   "id": "45a813c4",
   "metadata": {
    "ExecuteTime": {
     "end_time": "2021-12-01T23:59:56.917250Z",
     "start_time": "2021-12-01T23:59:53.961151Z"
    }
   },
   "outputs": [
    {
     "data": {
      "text/plain": [
       "array([[0.353, 0.744, 0.59 , ..., 0.501, 0.234, 0.483],\n",
       "       [0.059, 0.427, 0.541, ..., 0.396, 0.117, 0.167],\n",
       "       [0.471, 0.92 , 0.525, ..., 0.347, 0.254, 0.183],\n",
       "       ...,\n",
       "       [0.294, 0.608, 0.59 , ..., 0.39 , 0.071, 0.15 ],\n",
       "       [0.059, 0.633, 0.492, ..., 0.449, 0.116, 0.433],\n",
       "       [0.059, 0.467, 0.574, ..., 0.453, 0.101, 0.033]])"
      ]
     },
     "execution_count": 1,
     "metadata": {},
     "output_type": "execute_result"
    }
   ],
   "source": [
    "import pandas as pd\n",
    "import numpy as np\n",
    "from sklearn.preprocessing import MinMaxScaler\n",
    "# MinMaxScaler 调整数据尺度，将属性缩放到一个范围\n",
    "\n",
    "# 导入数据\n",
    "filename = 'pima_data.csv'\n",
    "names = ['preg', 'plas', 'pres', 'skin', 'test', 'mass', 'pedi', 'age', 'class']\n",
    "data = pd.read_csv(filename, names=names)\n",
    "# 将数据分为输入数据和输出结果\n",
    "array = data.values\n",
    "X = array[:, 0:8]\n",
    "Y = array[:, 8]\n",
    "transformer = MinMaxScaler(feature_range=(0, 1))\n",
    "# 数据转换\n",
    "newX = transformer.fit_transform(X)\n",
    "np.set_printoptions(precision=3)\n",
    "newX"
   ]
  },
  {
   "cell_type": "code",
   "execution_count": 2,
   "id": "8d575102",
   "metadata": {
    "ExecuteTime": {
     "end_time": "2021-12-01T23:59:56.962130Z",
     "start_time": "2021-12-01T23:59:56.925227Z"
    }
   },
   "outputs": [
    {
     "data": {
      "text/plain": [
       "array([[ 0.64 ,  0.848,  0.15 , ...,  0.204,  0.468,  1.426],\n",
       "       [-0.845, -1.123, -0.161, ..., -0.684, -0.365, -0.191],\n",
       "       [ 1.234,  1.944, -0.264, ..., -1.103,  0.604, -0.106],\n",
       "       ...,\n",
       "       [ 0.343,  0.003,  0.15 , ..., -0.735, -0.685, -0.276],\n",
       "       [-0.845,  0.16 , -0.471, ..., -0.24 , -0.371,  1.171],\n",
       "       [-0.845, -0.873,  0.046, ..., -0.202, -0.474, -0.871]])"
      ]
     },
     "execution_count": 2,
     "metadata": {},
     "output_type": "execute_result"
    }
   ],
   "source": [
    "import sklearn\n",
    "# 正态化数据: 输出结果以0为中位数，方差为1，并假定数据符合高斯分布的算法的输入\n",
    "transformer =  sklearn.preprocessing.StandardScaler().fit(X)\n",
    "newX = transformer.transform(X)\n",
    "np.set_printoptions(precision=3)\n",
    "newX"
   ]
  },
  {
   "cell_type": "code",
   "execution_count": 3,
   "id": "4b205576",
   "metadata": {
    "ExecuteTime": {
     "end_time": "2021-12-01T23:59:58.166911Z",
     "start_time": "2021-12-01T23:59:58.143972Z"
    }
   },
   "outputs": [
    {
     "data": {
      "text/plain": [
       "array([[0.034, 0.828, 0.403, ..., 0.188, 0.004, 0.28 ],\n",
       "       [0.008, 0.716, 0.556, ..., 0.224, 0.003, 0.261],\n",
       "       [0.04 , 0.924, 0.323, ..., 0.118, 0.003, 0.162],\n",
       "       ...,\n",
       "       [0.027, 0.651, 0.388, ..., 0.141, 0.001, 0.161],\n",
       "       [0.007, 0.838, 0.399, ..., 0.2  , 0.002, 0.313],\n",
       "       [0.008, 0.736, 0.554, ..., 0.241, 0.002, 0.182]])"
      ]
     },
     "execution_count": 3,
     "metadata": {},
     "output_type": "execute_result"
    }
   ],
   "source": [
    "# 标准化数据：将每一行的数据的距离处理成1，归一元处理，适合处理稀疏数据（有很多0的数据）\n",
    "# 归一元处理的数据对使用权重输入的神经网络和使用k近邻算法的准确度的提升有显著作用\n",
    "transformer = sklearn.preprocessing.Normalizer().fit(X)\n",
    "newX = transformer.transform(X)\n",
    "np.set_printoptions(precision=3)\n",
    "newX"
   ]
  },
  {
   "cell_type": "code",
   "execution_count": 5,
   "id": "8eb35eee",
   "metadata": {
    "ExecuteTime": {
     "end_time": "2021-12-02T00:02:49.166037Z",
     "start_time": "2021-12-02T00:02:49.137110Z"
    }
   },
   "outputs": [
    {
     "data": {
      "text/plain": [
       "array([[1., 1., 1., ..., 1., 1., 1.],\n",
       "       [1., 1., 1., ..., 1., 1., 1.],\n",
       "       [1., 1., 1., ..., 1., 1., 1.],\n",
       "       ...,\n",
       "       [1., 1., 1., ..., 1., 1., 1.],\n",
       "       [1., 1., 1., ..., 1., 1., 1.],\n",
       "       [1., 1., 1., ..., 1., 1., 1.]])"
      ]
     },
     "execution_count": 5,
     "metadata": {},
     "output_type": "execute_result"
    }
   ],
   "source": [
    "# 二值数据：使用值将数据转化为二值，\n",
    "from sklearn.preprocessing import Binarizer\n",
    "\n",
    "transformer = Binarizer(threshold=0.0).fit(X)\n",
    "newX = transformer.transform(X)\n",
    "np.set_printoptions(precision=3)\n",
    "newX"
   ]
  },
  {
   "cell_type": "code",
   "execution_count": null,
   "id": "12f6a586",
   "metadata": {},
   "outputs": [],
   "source": []
  }
 ],
 "metadata": {
  "kernelspec": {
   "display_name": "Python 3 (ipykernel)",
   "language": "python",
   "name": "python3"
  },
  "language_info": {
   "codemirror_mode": {
    "name": "ipython",
    "version": 3
   },
   "file_extension": ".py",
   "mimetype": "text/x-python",
   "name": "python",
   "nbconvert_exporter": "python",
   "pygments_lexer": "ipython3",
   "version": "3.7.4"
  }
 },
 "nbformat": 4,
 "nbformat_minor": 5
}
