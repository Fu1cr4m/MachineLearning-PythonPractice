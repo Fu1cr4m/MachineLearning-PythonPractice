{
 "cells": [
  {
   "cell_type": "markdown",
   "id": "3141364d",
   "metadata": {},
   "source": [
    "# 初始\n",
    "\n",
    "## 学习机器学习的误区\n",
    "\n",
    "### 避免以下误区\n",
    "- 必须非常熟悉Python语法和擅长编程\n",
    "- 非常深入地学习和理解scikit-learn中使用的机器学习的理论和算法\n",
    "- 避免或者很少参与完成项目，除机器学习之外的部分\n",
    "会降低掌握机器学习技能的速度和要打到通过机器学习来解决问题的目标，也会浪费大量时间单独学习机器学习算法，但不知如何利用机器学习来解决实际问题。\n",
    "\n",
    "### 机器学习\n",
    "- 是多领域的交叉学科，概率论、统计学、线性代数和算法等\n",
    "- 算法分为两大类：有监督和无监督\n",
    "- 利用机器学习的预测模型来解决问题的六个基本步骤    \n",
    "![六个基础步骤](./img/1-机器学习-6个步骤.PNG)\n",
    "- \n",
    "    1. 定义问题：研究和提炼问题的特征\n",
    "    2. 数据理解：通过描述性统计和可视化分析现有数据\n",
    "    3. 数据准备：对数据进行格式化\n",
    "    4. 评估算法：通过一定方法分类数据，一部分评估，另一部分训练\n",
    "    5. 优化模型：通过调参和集成算法提升预测结果的准确的\n",
    "    6. 结果部署：完成模型，并执行模型来预测结果和展示\n",
    "    \n",
    "### 学习技巧\n",
    "- 启动一个可以在一个小时内完成的小项目\n",
    "- 每周完成一个项目来保持学习势头，并建立积累自己项目的工作区\n",
    "- 在各类社交平台分享自己的成果"
   ]
  },
  {
   "cell_type": "code",
   "execution_count": null,
   "id": "f8f297de",
   "metadata": {},
   "outputs": [],
   "source": []
  }
 ],
 "metadata": {
  "kernelspec": {
   "display_name": "Python 3 (ipykernel)",
   "language": "python",
   "name": "python3"
  },
  "language_info": {
   "codemirror_mode": {
    "name": "ipython",
    "version": 3
   },
   "file_extension": ".py",
   "mimetype": "text/x-python",
   "name": "python",
   "nbconvert_exporter": "python",
   "pygments_lexer": "ipython3",
   "version": "3.7.4"
  }
 },
 "nbformat": 4,
 "nbformat_minor": 5
}
